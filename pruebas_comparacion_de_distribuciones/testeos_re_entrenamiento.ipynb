{
 "cells": [
  {
   "cell_type": "code",
   "execution_count": 111,
   "metadata": {},
   "outputs": [],
   "source": [
    "import pandas as pd\n",
    "import numpy as np\n",
    "import matplotlib.pyplot as plt\n",
    "import random\n",
    "\n",
    "from sklearn.model_selection import train_test_split, cross_val_score, StratifiedKFold\n",
    "\n",
    "from sklearn.linear_model import LogisticRegression\n",
    "from sklearn.tree import DecisionTreeClassifier\n",
    "from sklearn.ensemble import RandomForestClassifier\n",
    "from sklearn.svm import SVC\n",
    "from sklearn.neural_network import MLPClassifier\n",
    "\n",
    "from sklearn.metrics import (accuracy_score, precision_score, recall_score, f1_score, \n",
    "                             roc_auc_score, mean_squared_error, mean_absolute_error,\n",
    "                             classification_report)\n",
    "\n",
    "from statsmodels.stats.proportion import proportions_ztest\n",
    "from scipy.stats import entropy, ks_2samp, ttest_ind\n",
    "# from skmultiflow.drift_detection import PageHinkley"
   ]
  },
  {
   "cell_type": "code",
   "execution_count": 34,
   "metadata": {},
   "outputs": [
    {
     "data": {
      "text/plain": [
       "(99, 8, 10, 63)"
      ]
     },
     "execution_count": 34,
     "metadata": {},
     "output_type": "execute_result"
    }
   ],
   "source": [
    "n1 = random.randint(1, 100)\n",
    "n2 = random.randint(1, 100)\n",
    "n3 = random.randint(1, 100)\n",
    "n4 = random.randint(1, 100)\n",
    "n1,n2,n3,n4"
   ]
  },
  {
   "cell_type": "code",
   "execution_count": 35,
   "metadata": {},
   "outputs": [
    {
     "data": {
      "text/html": [
       "<div>\n",
       "<style scoped>\n",
       "    .dataframe tbody tr th:only-of-type {\n",
       "        vertical-align: middle;\n",
       "    }\n",
       "\n",
       "    .dataframe tbody tr th {\n",
       "        vertical-align: top;\n",
       "    }\n",
       "\n",
       "    .dataframe thead th {\n",
       "        text-align: right;\n",
       "    }\n",
       "</style>\n",
       "<table border=\"1\" class=\"dataframe\">\n",
       "  <thead>\n",
       "    <tr style=\"text-align: right;\">\n",
       "      <th></th>\n",
       "      <th>Elevation</th>\n",
       "      <th>Slope</th>\n",
       "      <th>Horizontal_Distance_To_Hydrology</th>\n",
       "      <th>Vertical_Distance_To_Hydrology</th>\n",
       "      <th>Horizontal_Distance_To_Roadways</th>\n",
       "      <th>Hillshade_9am</th>\n",
       "      <th>Hillshade_Noon</th>\n",
       "      <th>Horizontal_Distance_To_Fire_Points</th>\n",
       "      <th>Cover_Type</th>\n",
       "    </tr>\n",
       "  </thead>\n",
       "  <tbody>\n",
       "    <tr>\n",
       "      <th>0</th>\n",
       "      <td>2991</td>\n",
       "      <td>7</td>\n",
       "      <td>67</td>\n",
       "      <td>11</td>\n",
       "      <td>1015</td>\n",
       "      <td>233</td>\n",
       "      <td>234</td>\n",
       "      <td>1570</td>\n",
       "      <td>1</td>\n",
       "    </tr>\n",
       "    <tr>\n",
       "      <th>1</th>\n",
       "      <td>2876</td>\n",
       "      <td>18</td>\n",
       "      <td>485</td>\n",
       "      <td>71</td>\n",
       "      <td>2495</td>\n",
       "      <td>192</td>\n",
       "      <td>202</td>\n",
       "      <td>1557</td>\n",
       "      <td>1</td>\n",
       "    </tr>\n",
       "    <tr>\n",
       "      <th>2</th>\n",
       "      <td>3171</td>\n",
       "      <td>2</td>\n",
       "      <td>277</td>\n",
       "      <td>9</td>\n",
       "      <td>4374</td>\n",
       "      <td>213</td>\n",
       "      <td>237</td>\n",
       "      <td>1052</td>\n",
       "      <td>0</td>\n",
       "    </tr>\n",
       "    <tr>\n",
       "      <th>3</th>\n",
       "      <td>3087</td>\n",
       "      <td>13</td>\n",
       "      <td>190</td>\n",
       "      <td>31</td>\n",
       "      <td>4774</td>\n",
       "      <td>193</td>\n",
       "      <td>221</td>\n",
       "      <td>752</td>\n",
       "      <td>0</td>\n",
       "    </tr>\n",
       "    <tr>\n",
       "      <th>4</th>\n",
       "      <td>2835</td>\n",
       "      <td>10</td>\n",
       "      <td>212</td>\n",
       "      <td>41</td>\n",
       "      <td>3596</td>\n",
       "      <td>231</td>\n",
       "      <td>242</td>\n",
       "      <td>3280</td>\n",
       "      <td>1</td>\n",
       "    </tr>\n",
       "  </tbody>\n",
       "</table>\n",
       "</div>"
      ],
      "text/plain": [
       "   Elevation  Slope  Horizontal_Distance_To_Hydrology   \n",
       "0       2991      7                                67  \\\n",
       "1       2876     18                               485   \n",
       "2       3171      2                               277   \n",
       "3       3087     13                               190   \n",
       "4       2835     10                               212   \n",
       "\n",
       "   Vertical_Distance_To_Hydrology  Horizontal_Distance_To_Roadways   \n",
       "0                              11                             1015  \\\n",
       "1                              71                             2495   \n",
       "2                               9                             4374   \n",
       "3                              31                             4774   \n",
       "4                              41                             3596   \n",
       "\n",
       "   Hillshade_9am  Hillshade_Noon  Horizontal_Distance_To_Fire_Points   \n",
       "0            233             234                                1570  \\\n",
       "1            192             202                                1557   \n",
       "2            213             237                                1052   \n",
       "3            193             221                                 752   \n",
       "4            231             242                                3280   \n",
       "\n",
       "   Cover_Type  \n",
       "0           1  \n",
       "1           1  \n",
       "2           0  \n",
       "3           0  \n",
       "4           1  "
      ]
     },
     "execution_count": 35,
     "metadata": {},
     "output_type": "execute_result"
    }
   ],
   "source": [
    "# from sklearn.datasets import load_diabetes\n",
    "\n",
    "# # Cargar el dataset de diabetes\n",
    "# diabetes = load_diabetes()\n",
    "\n",
    "# # Convertir a DataFrame\n",
    "# data = pd.DataFrame(data=diabetes.data, columns=diabetes.feature_names)\n",
    "# data['target'] = diabetes.target  # Agregar la columna de objetivos (target)\n",
    "\n",
    "# X1 = sample1.loc[:,['age', 'sex', 'bmi', 'bp', 's1', 's2', 's3', 's4', 's5', 's6']]\n",
    "# y1 = sample1.loc[:,['target']]\n",
    "\n",
    "# X2 = sample2.loc[:,['age', 'sex', 'bmi', 'bp', 's1', 's2', 's3', 's4', 's5', 's6']]\n",
    "# y2 = sample2.loc[:,['target']]\n",
    "\n",
    "data = pd.read_csv('covertype_train.csv', sep = ',', decimal = '.', header = 0, encoding = 'utf-8')\n",
    "data.head()"
   ]
  },
  {
   "cell_type": "code",
   "execution_count": 36,
   "metadata": {},
   "outputs": [],
   "source": [
    "# Crear dos muestras del DataFrame\n",
    "historical_data = data.sample(frac=0.8, random_state=n1)  \n",
    "recent_data = data.sample(frac=0.3, random_state=n2) \n",
    "\n",
    "# Suponiendo que la última columna es la variable objetivo\n",
    "target_column = 'Cover_Type'\n",
    "\n",
    "# Separar las características y la variable objetivo\n",
    "X_historical = historical_data.drop(columns=[target_column])\n",
    "y_historical = historical_data[target_column]\n",
    "\n",
    "X_recent = recent_data.drop(columns=[target_column])\n",
    "y_recent = recent_data[target_column]"
   ]
  },
  {
   "cell_type": "code",
   "execution_count": 37,
   "metadata": {},
   "outputs": [
    {
     "data": {
      "text/plain": [
       "((116203, 9), (92962, 8), (34861, 8))"
      ]
     },
     "execution_count": 37,
     "metadata": {},
     "output_type": "execute_result"
    }
   ],
   "source": [
    "data.shape, X_historical.shape, X_recent.shape"
   ]
  },
  {
   "cell_type": "markdown",
   "metadata": {},
   "source": [
    "# Experimento 1: Evaluación de Desempeño del Modelo\n",
    "\n",
    "Métricas de Precisión: Revisión de métricas como exactitud, precisión, recall, F1-score, AUC-ROC, etc. Comparar estas métricas con las expectativas o benchmarks iniciales.\n",
    "Errores de Predicción: Análisis de la tasa de error (por ejemplo, error cuadrático medio, error absoluto medio) en un conjunto de datos de validación.\n",
    "Desglose de Errores: Análisis de los errores cometidos en diferentes subgrupos del conjunto de datos para identificar posibles sesgos o problemas específicos."
   ]
  },
  {
   "cell_type": "code",
   "execution_count": 39,
   "metadata": {},
   "outputs": [],
   "source": [
    "X_train1, X_test1, y_train1, y_test1 = train_test_split(X_historical, y_historical, test_size = 0.2, random_state = n1)\n",
    "X_train2, X_test2, y_train2, y_test2 = train_test_split(X_recent, y_recent, test_size = 0.2, random_state = n2)"
   ]
  },
  {
   "cell_type": "code",
   "execution_count": 40,
   "metadata": {},
   "outputs": [
    {
     "data": {
      "text/plain": [
       "({'model1': {'accuracy': 0.8205776367450116,\n",
       "   'precision': 0.8208786835460556,\n",
       "   'recall': 0.8205776367450116,\n",
       "   'f1_score': 0.8207104794732611,\n",
       "   'roc_auc': 0.8518633592954362},\n",
       "  'model2': {'accuracy': 0.754194751183135,\n",
       "   'precision': 0.7541431838973099,\n",
       "   'recall': 0.754194751183135,\n",
       "   'f1_score': 0.753993240729493,\n",
       "   'roc_auc': 0.801841882354277}},\n",
       " {'model1': {'mse': 0.9681600602377238, 'mae': 0.3217877695907062},\n",
       "  'model2': {'mse': 1.3760217983651226, 'mae': 0.4444285099670156}})"
      ]
     },
     "execution_count": 40,
     "metadata": {},
     "output_type": "execute_result"
    }
   ],
   "source": [
    "# Crear modelos \n",
    "model1 = DecisionTreeClassifier(random_state=n3).fit(X_train1, y_train1)\n",
    "model2 = DecisionTreeClassifier(random_state=n4).fit(X_train2, y_train2)\n",
    "\n",
    "# Predicciones de los modelos\n",
    "y_pred1 = model1.predict(X_test1)\n",
    "y_pred2 = model2.predict(X_test2)\n",
    "\n",
    "metrics = {}\n",
    "metrics['model1'] = {\n",
    "    'accuracy': accuracy_score(y_test1, y_pred1),\n",
    "    'precision': precision_score(y_test1, y_pred1, average='weighted'),\n",
    "    'recall': recall_score(y_test1, y_pred1, average='weighted'),\n",
    "    'f1_score': f1_score(y_test1, y_pred1, average='weighted'),\n",
    "    'roc_auc': roc_auc_score(y_test1, model1.predict_proba(X_test1), multi_class='ovr')\n",
    "}\n",
    "metrics['model2'] = {\n",
    "    'accuracy': accuracy_score(y_test2, y_pred2),\n",
    "    'precision': precision_score(y_test2, y_pred2, average='weighted'),\n",
    "    'recall': recall_score(y_test2, y_pred2, average='weighted'),\n",
    "    'f1_score': f1_score(y_test2, y_pred2, average='weighted'),\n",
    "    'roc_auc': roc_auc_score(y_test2, model2.predict_proba(X_test2), multi_class='ovr')\n",
    "}\n",
    "\n",
    "errors = {}\n",
    "errors['model1'] = {\n",
    "    'mse': mean_squared_error(y_test1, y_pred1),\n",
    "    'mae': mean_absolute_error(y_test1, y_pred1)\n",
    "}\n",
    "errors['model2'] = {\n",
    "    'mse': mean_squared_error(y_test2, y_pred2),\n",
    "    'mae': mean_absolute_error(y_test2, y_pred2)\n",
    "}\n",
    "\n",
    "metrics, errors"
   ]
  },
  {
   "cell_type": "markdown",
   "metadata": {},
   "source": [
    "Sugerencia: En el momento que el recall caiga 5% o 10% (definir); se debe tener el y en ambos casos.\n",
    "\n",
    "# Experimento 2: Concept drift\n",
    "\n",
    "Ocurre cuando las propiedades estadísticas de la variable objetivo, que el modelo intenta predecir, cambian con el tiempo de manera imprevista. Esto causa problemas porque las predicciones se vuelven menos precisas a medida que pasa el tiempo. La detección y adaptación de la deriva son de suma importancia en los campos que involucran datos y modelos de datos que cambian dinámicamente. En wiki hay ejemplo.\n",
    "\n",
    "wiki: https://en.wikipedia.org/wiki/Concept_drift\n"
   ]
  },
  {
   "cell_type": "code",
   "execution_count": 42,
   "metadata": {},
   "outputs": [
    {
     "name": "stdout",
     "output_type": "stream",
     "text": [
      "Rendimiento en datos históricos:\n",
      "Precisión: 0.8826440058086377\n",
      "Recall: 0.8826440058086377\n",
      "              precision    recall  f1-score   support\n",
      "\n",
      "           0       0.89      0.88      0.89      6719\n",
      "           1       0.88      0.92      0.90      9085\n",
      "           2       0.86      0.85      0.85      1188\n",
      "           3       0.90      0.72      0.80        92\n",
      "           4       0.89      0.44      0.59       288\n",
      "           5       0.81      0.64      0.72       557\n",
      "           6       0.96      0.82      0.88       664\n",
      "\n",
      "    accuracy                           0.88     18593\n",
      "   macro avg       0.89      0.75      0.80     18593\n",
      "weighted avg       0.88      0.88      0.88     18593\n",
      "\n"
     ]
    }
   ],
   "source": [
    "# Dividir los datos históricos en entrenamiento y prueba\n",
    "X_train, X_test, y_train, y_test = train_test_split(X_historical, y_historical, test_size=0.2, random_state=n3)\n",
    "\n",
    "# Entrenar el modelo\n",
    "model = RandomForestClassifier(random_state=n4)\n",
    "model.fit(X_train, y_train)\n",
    "\n",
    "# Evaluar el modelo en los datos de prueba históricos\n",
    "y_pred_historical = model.predict(X_test)\n",
    "historical_accuracy = accuracy_score(y_test, y_pred_historical)\n",
    "historical_recall = recall_score(y_test, y_pred_historical, average='weighted')\n",
    "\n",
    "print(\"Rendimiento en datos históricos:\")\n",
    "print(f\"Precisión: {historical_accuracy}\")\n",
    "print(f\"Recall: {historical_recall}\")\n",
    "print(classification_report(y_test, y_pred_historical))"
   ]
  },
  {
   "cell_type": "code",
   "execution_count": 43,
   "metadata": {},
   "outputs": [
    {
     "name": "stdout",
     "output_type": "stream",
     "text": [
      "Rendimiento en datos recientes:\n",
      "Precisión: 0.957000659763059\n",
      "Recall: 0.957000659763059\n",
      "              precision    recall  f1-score   support\n",
      "\n",
      "           0       0.96      0.96      0.96     12702\n",
      "           1       0.96      0.97      0.96     16993\n",
      "           2       0.95      0.95      0.95      2128\n",
      "           3       0.96      0.90      0.93       177\n",
      "           4       0.97      0.78      0.86       596\n",
      "           5       0.94      0.88      0.91      1045\n",
      "           6       0.99      0.93      0.96      1220\n",
      "\n",
      "    accuracy                           0.96     34861\n",
      "   macro avg       0.96      0.91      0.93     34861\n",
      "weighted avg       0.96      0.96      0.96     34861\n",
      "\n"
     ]
    }
   ],
   "source": [
    "# Evaluar el modelo en los datos recientes\n",
    "y_pred_recent = model.predict(X_recent)\n",
    "recent_accuracy = accuracy_score(y_recent, y_pred_recent)\n",
    "recent_recall = recall_score(y_recent, y_pred_recent, average='weighted')\n",
    "\n",
    "print(\"Rendimiento en datos recientes:\")\n",
    "print(f\"Precisión: {recent_accuracy}\")\n",
    "print(f\"Recall: {recent_recall}\")\n",
    "print(classification_report(y_recent, y_pred_recent))"
   ]
  },
  {
   "cell_type": "code",
   "execution_count": 44,
   "metadata": {},
   "outputs": [
    {
     "name": "stdout",
     "output_type": "stream",
     "text": [
      "Comparación de rendimiento:\n",
      "Precisión en datos históricos: 0.8826440058086377\n",
      "Precisión en datos recientes: 0.957000659763059\n",
      "Recall en datos históricos: 0.8826440058086377\n",
      "Recall en datos recientes: 0.957000659763059\n"
     ]
    }
   ],
   "source": [
    "print(\"Comparación de rendimiento:\")\n",
    "print(f\"Precisión en datos históricos: {historical_accuracy}\")\n",
    "print(f\"Precisión en datos recientes: {recent_accuracy}\")\n",
    "\n",
    "print(f\"Recall en datos históricos: {historical_recall}\")\n",
    "print(f\"Recall en datos recientes: {recent_recall}\")"
   ]
  },
  {
   "cell_type": "code",
   "execution_count": 45,
   "metadata": {},
   "outputs": [
    {
     "name": "stdout",
     "output_type": "stream",
     "text": [
      "Prueba Z: Estadístico = -32.3351, p-valor = 0.0000\n",
      "Es necesario volver a entrenar el modelo debido a una caída significativa en el rendimiento.\n"
     ]
    }
   ],
   "source": [
    "# Evaluar la significancia de la diferencia usando una prueba z de proporciones\n",
    "count = np.array([sum(y_test == y_pred_historical), sum(y_recent == y_pred_recent)])\n",
    "nobs = np.array([len(y_test), len(y_recent)])\n",
    "stat, pval = proportions_ztest(count, nobs)\n",
    "\n",
    "print(f\"Prueba Z: Estadístico = {stat:.4f}, p-valor = {pval:.4f}\")\n",
    "\n",
    "# Decidir si volver a entrenar el modelo\n",
    "threshold = 0.05  # Umbral de caída de precisión\n",
    "if recent_accuracy < historical_accuracy * (1 - threshold) or pval < 0.05:\n",
    "    print(\"Es necesario volver a entrenar el modelo debido a una caída significativa en el rendimiento.\")\n",
    "else:\n",
    "    print(\"El rendimiento del modelo es estable. No es necesario volver a entrenar el modelo en este momento.\")"
   ]
  },
  {
   "cell_type": "code",
   "execution_count": 46,
   "metadata": {},
   "outputs": [
    {
     "name": "stdout",
     "output_type": "stream",
     "text": [
      "Prueba Z: Estadístico = -32.3351, p-valor = 0.0000\n",
      "Es necesario volver a entrenar el modelo debido a una caída significativa en el rendimiento.\n"
     ]
    }
   ],
   "source": [
    "# Evaluar la significancia de la diferencia usando una prueba z de proporciones\n",
    "count = np.array([sum(y_test == y_pred_historical), sum(y_recent == y_pred_recent)])\n",
    "nobs = np.array([len(y_test), len(y_recent)])\n",
    "stat, pval = proportions_ztest(count, nobs)\n",
    "\n",
    "print(f\"Prueba Z: Estadístico = {stat:.4f}, p-valor = {pval:.4f}\")\n",
    "\n",
    "# Decidir si volver a entrenar el modelo\n",
    "threshold = 0.05  # Umbral de caída de precisión\n",
    "if recent_recall < historical_recall * (1 - threshold) or pval < 0.05:\n",
    "    print(\"Es necesario volver a entrenar el modelo debido a una caída significativa en el rendimiento.\")\n",
    "else:\n",
    "    print(\"El rendimiento del modelo es estable. No es necesario volver a entrenar el modelo en este momento.\")"
   ]
  },
  {
   "cell_type": "markdown",
   "metadata": {},
   "source": [
    "Decisión de reentrenamiento: Comparar la precisión reciente con la precisión histórica ajustada por un umbral. Si la precisión reciente cae significativamente o si el p-valor de la prueba es menor que 0.05, se sugiere reentrenar el modelo.\n",
    "\n",
    "Nuevamente deberiamos contar con y\n",
    "\n",
    "# Experimento 3: Distancia de Kullback-Leibler (KL), Test de Kolmogorov-Smirnov (KS-test), Método de Page-Hinkley\n",
    "\n",
    "## La distancia de Kullback-Leibler \n",
    "\n",
    "Mide la diferencia entre dos distribuciones de probabilidad.\n",
    "\n",
    "En wikipedia estan las formulas\n",
    "\n",
    "link wiki: https://es.wikipedia.org/wiki/Divergencia_de_Kullback-Leibler\n",
    "\n",
    "## Test de Kolmogorov-Smirnov (KS-test)\n",
    "\n",
    "Prueba no paramétrica que determina la bondad de ajuste de dos distribuciones de probabilidad entre sí.\n",
    "\n",
    "En wikipedia estan las formulas\n",
    "\n",
    "link wiki: https://en.wikipedia.org/wiki/Kolmogorov%E2%80%93Smirnov_test\n",
    "\n",
    "## Método de Page-Hinkley \n",
    "\n",
    "Intenta identificar momentos en los que cambia la distribución de probabilidad de un proceso estocástico o una serie de tiempo . En general, el problema concierne tanto a detectar si se ha producido o no un cambio, o si podrían haber ocurrido varios cambios, como a identificar los momentos en que se produjeron dichos cambios.\n",
    "\n",
    "Este no lo pude hacer andar\n",
    "\n",
    "link wiki: https://en.wikipedia.org/wiki/Change_detection"
   ]
  },
  {
   "cell_type": "code",
   "execution_count": 47,
   "metadata": {},
   "outputs": [],
   "source": [
    "def kl_divergence(p, q):\n",
    "    return entropy(p, q)"
   ]
  },
  {
   "cell_type": "code",
   "execution_count": 48,
   "metadata": {},
   "outputs": [
    {
     "name": "stdout",
     "output_type": "stream",
     "text": [
      "KL Divergence: 7.400270656106431e-05\n",
      "No se detectó drift en la distribución de la característica.\n"
     ]
    }
   ],
   "source": [
    "# Suponiendo que 'target_column' es una columna específica que deseas comparar\n",
    "historical_feature = historical_data[target_column].value_counts(normalize=True)\n",
    "recent_feature = recent_data[target_column].value_counts(normalize=True)\n",
    "\n",
    "# Alinear los índices de las distribuciones\n",
    "all_index = historical_feature.index.union(recent_feature.index)\n",
    "p = historical_feature.reindex(all_index, fill_value=0)\n",
    "q = recent_feature.reindex(all_index, fill_value=0)\n",
    "\n",
    "kl_div = kl_divergence(p, q)\n",
    "print(f\"KL Divergence: {kl_div}\")\n",
    "\n",
    "threshold_kl = 0.1  # Define un umbral apropiado para tu contexto\n",
    "if kl_div > threshold_kl:\n",
    "    print(\"Drift detectado en la distribución de la característica.\")\n",
    "else:\n",
    "    print(\"No se detectó drift en la distribución de la característica.\")"
   ]
  },
  {
   "cell_type": "code",
   "execution_count": 49,
   "metadata": {},
   "outputs": [
    {
     "name": "stdout",
     "output_type": "stream",
     "text": [
      "KS Statistic: 0.00171333701874965, p-value: 0.9999993440270813\n",
      "No se detectó drift en la característica.\n"
     ]
    }
   ],
   "source": [
    "# Suponiendo que 'target_column' es una columna específica que deseas comparar\n",
    "ks_stat, p_value = ks_2samp(historical_data[target_column], recent_data[target_column])\n",
    "print(f\"KS Statistic: {ks_stat}, p-value: {p_value}\")\n",
    "\n",
    "threshold_p_value = 0.05  # Nivel de significancia\n",
    "if p_value < threshold_p_value:\n",
    "    print(\"Drift detectado en la característica.\")\n",
    "else:\n",
    "    print(\"No se detectó drift en la característica.\")"
   ]
  },
  {
   "cell_type": "code",
   "execution_count": 50,
   "metadata": {},
   "outputs": [],
   "source": [
    "# # Suponiendo que 'target_column' es una columna específica que deseas comparar\n",
    "# ph = PageHinkley()\n",
    "\n",
    "# # Actualizar el detector con datos históricos\n",
    "# for value in historical_data[target_column]:\n",
    "#     ph.add_element(value)\n",
    "\n",
    "# # Verificar si se detecta un cambio en los datos recientes\n",
    "# drift_detected = False\n",
    "# for value in recent_data[target_column]:\n",
    "#     ph.add_element(value)\n",
    "#     if ph.detected_change():\n",
    "#         drift_detected = True\n",
    "#         break\n",
    "\n",
    "# if drift_detected:\n",
    "#     print(\"Drift detectado en la característica.\")\n",
    "# else:\n",
    "#     print(\"No se detectó drift en la característica.\")"
   ]
  },
  {
   "cell_type": "markdown",
   "metadata": {},
   "source": [
    "## Conclusiones\n",
    "\n",
    "- Distancia de Kullback-Leibler: Compara distribuciones de probabilidad y es útil cuando tienes datos categóricos.\n",
    "- Test de Kolmogorov-Smirnov: Compara distribuciones acumulativas y es útil para datos continuos.\n",
    "- Método de Page-Hinkley: Detecta cambios abruptos en el promedio de una señal y es útil para flujos de datos continuos.\n",
    "\n",
    "# Experimento 4: Uso de feetback pero este no es posible\n",
    "\n",
    "# Experimento 5: Inspección de Feature Importance"
   ]
  },
  {
   "cell_type": "code",
   "execution_count": 52,
   "metadata": {},
   "outputs": [
    {
     "name": "stdout",
     "output_type": "stream",
     "text": [
      "                              feature  importance\n",
      "0                           Elevation    0.351927\n",
      "4     Horizontal_Distance_To_Roadways    0.145987\n",
      "7  Horizontal_Distance_To_Fire_Points    0.138171\n",
      "2    Horizontal_Distance_To_Hydrology    0.079486\n",
      "3      Vertical_Distance_To_Hydrology    0.078422\n",
      "5                       Hillshade_9am    0.076453\n",
      "6                      Hillshade_Noon    0.074910\n",
      "1                               Slope    0.054643\n"
     ]
    },
    {
     "data": {
      "image/png": "[encoded data removed]",
      "text/plain": [
       "<Figure size 640x480 with 1 Axes>"
      ]
     },
     "metadata": {},
     "output_type": "display_data"
    }
   ],
   "source": [
    "# Entrenar el modelo\n",
    "model_historical = RandomForestClassifier(random_state=n3)\n",
    "model_historical.fit(X_historical, y_historical)\n",
    "\n",
    "# Obtener la importancia de las características\n",
    "importance_historical = model_historical.feature_importances_\n",
    "\n",
    "# Crear un DataFrame para visualizar la importancia\n",
    "features_historical = pd.DataFrame({\n",
    "    'feature': X_historical.columns,\n",
    "    'importance': importance_historical\n",
    "}).sort_values(by='importance', ascending=False)\n",
    "\n",
    "print(features_historical)\n",
    "\n",
    "# Visualizar la importancia de las características\n",
    "features_historical.plot(kind='bar', x='feature', y='importance', legend=False)\n",
    "plt.title('Importancia de las características - Datos históricos')\n",
    "plt.show()"
   ]
  },
  {
   "cell_type": "code",
   "execution_count": 53,
   "metadata": {},
   "outputs": [
    {
     "name": "stdout",
     "output_type": "stream",
     "text": [
      "                              feature  importance\n",
      "0                           Elevation    0.348125\n",
      "4     Horizontal_Distance_To_Roadways    0.138153\n",
      "7  Horizontal_Distance_To_Fire_Points    0.129335\n",
      "2    Horizontal_Distance_To_Hydrology    0.082067\n",
      "5                       Hillshade_9am    0.081428\n",
      "3      Vertical_Distance_To_Hydrology    0.080568\n",
      "6                      Hillshade_Noon    0.080247\n",
      "1                               Slope    0.060078\n"
     ]
    },
    {
     "data": {
      "image/png": "[encoded data removed]",
      "text/plain": [
       "<Figure size 640x480 with 1 Axes>"
      ]
     },
     "metadata": {},
     "output_type": "display_data"
    }
   ],
   "source": [
    "# Evaluar el modelo entrenado en los datos recientes (opcional: puedes reentrenar el modelo si es necesario)\n",
    "model_recent = RandomForestClassifier(random_state=n4)\n",
    "model_recent.fit(X_recent, y_recent)\n",
    "\n",
    "# Obtener la importancia de las características\n",
    "importance_recent = model_recent.feature_importances_\n",
    "\n",
    "# Crear un DataFrame para visualizar la importancia\n",
    "features_recent = pd.DataFrame({\n",
    "    'feature': X_recent.columns,\n",
    "    'importance': importance_recent\n",
    "}).sort_values(by='importance', ascending=False)\n",
    "\n",
    "print(features_recent)\n",
    "\n",
    "# Visualizar la importancia de las características\n",
    "features_recent.plot(kind='bar', x='feature', y='importance', legend=False)\n",
    "plt.title('Importancia de las características - Datos recientes')\n",
    "plt.show()"
   ]
  },
  {
   "cell_type": "code",
   "execution_count": 54,
   "metadata": {},
   "outputs": [
    {
     "data": {
      "text/html": [
       "<div>\n",
       "<style scoped>\n",
       "    .dataframe tbody tr th:only-of-type {\n",
       "        vertical-align: middle;\n",
       "    }\n",
       "\n",
       "    .dataframe tbody tr th {\n",
       "        vertical-align: top;\n",
       "    }\n",
       "\n",
       "    .dataframe thead th {\n",
       "        text-align: right;\n",
       "    }\n",
       "</style>\n",
       "<table border=\"1\" class=\"dataframe\">\n",
       "  <thead>\n",
       "    <tr style=\"text-align: right;\">\n",
       "      <th></th>\n",
       "      <th>feature</th>\n",
       "      <th>importance_historical</th>\n",
       "      <th>importance_recent</th>\n",
       "      <th>difference</th>\n",
       "    </tr>\n",
       "  </thead>\n",
       "  <tbody>\n",
       "    <tr>\n",
       "      <th>7</th>\n",
       "      <td>Slope</td>\n",
       "      <td>0.054643</td>\n",
       "      <td>0.060078</td>\n",
       "      <td>0.005435</td>\n",
       "    </tr>\n",
       "    <tr>\n",
       "      <th>6</th>\n",
       "      <td>Hillshade_Noon</td>\n",
       "      <td>0.074910</td>\n",
       "      <td>0.080247</td>\n",
       "      <td>0.005336</td>\n",
       "    </tr>\n",
       "    <tr>\n",
       "      <th>5</th>\n",
       "      <td>Hillshade_9am</td>\n",
       "      <td>0.076453</td>\n",
       "      <td>0.081428</td>\n",
       "      <td>0.004975</td>\n",
       "    </tr>\n",
       "    <tr>\n",
       "      <th>3</th>\n",
       "      <td>Horizontal_Distance_To_Hydrology</td>\n",
       "      <td>0.079486</td>\n",
       "      <td>0.082067</td>\n",
       "      <td>0.002580</td>\n",
       "    </tr>\n",
       "    <tr>\n",
       "      <th>4</th>\n",
       "      <td>Vertical_Distance_To_Hydrology</td>\n",
       "      <td>0.078422</td>\n",
       "      <td>0.080568</td>\n",
       "      <td>0.002145</td>\n",
       "    </tr>\n",
       "    <tr>\n",
       "      <th>0</th>\n",
       "      <td>Elevation</td>\n",
       "      <td>0.351927</td>\n",
       "      <td>0.348125</td>\n",
       "      <td>-0.003801</td>\n",
       "    </tr>\n",
       "    <tr>\n",
       "      <th>1</th>\n",
       "      <td>Horizontal_Distance_To_Roadways</td>\n",
       "      <td>0.145987</td>\n",
       "      <td>0.138153</td>\n",
       "      <td>-0.007835</td>\n",
       "    </tr>\n",
       "    <tr>\n",
       "      <th>2</th>\n",
       "      <td>Horizontal_Distance_To_Fire_Points</td>\n",
       "      <td>0.138171</td>\n",
       "      <td>0.129335</td>\n",
       "      <td>-0.008836</td>\n",
       "    </tr>\n",
       "  </tbody>\n",
       "</table>\n",
       "</div>"
      ],
      "text/plain": [
       "                              feature  importance_historical   \n",
       "7                               Slope               0.054643  \\\n",
       "6                      Hillshade_Noon               0.074910   \n",
       "5                       Hillshade_9am               0.076453   \n",
       "3    Horizontal_Distance_To_Hydrology               0.079486   \n",
       "4      Vertical_Distance_To_Hydrology               0.078422   \n",
       "0                           Elevation               0.351927   \n",
       "1     Horizontal_Distance_To_Roadways               0.145987   \n",
       "2  Horizontal_Distance_To_Fire_Points               0.138171   \n",
       "\n",
       "   importance_recent  difference  \n",
       "7           0.060078    0.005435  \n",
       "6           0.080247    0.005336  \n",
       "5           0.081428    0.004975  \n",
       "3           0.082067    0.002580  \n",
       "4           0.080568    0.002145  \n",
       "0           0.348125   -0.003801  \n",
       "1           0.138153   -0.007835  \n",
       "2           0.129335   -0.008836  "
      ]
     },
     "execution_count": 54,
     "metadata": {},
     "output_type": "execute_result"
    }
   ],
   "source": [
    "# Combinar las importancias de las características en un solo DataFrame\n",
    "importance_comparison = features_historical.merge(features_recent, on='feature', suffixes=('_historical', '_recent'))\n",
    "\n",
    "# Calcular la diferencia en importancia\n",
    "importance_comparison['difference'] = importance_comparison['importance_recent'] - importance_comparison['importance_historical']\n",
    "importance_comparison = importance_comparison.sort_values(by='difference', ascending=False)\n",
    "importance_comparison"
   ]
  },
  {
   "cell_type": "code",
   "execution_count": 55,
   "metadata": {},
   "outputs": [
    {
     "data": {
      "image/png": "[encoded data removed]",
      "text/plain": [
       "<Figure size 640x480 with 1 Axes>"
      ]
     },
     "metadata": {},
     "output_type": "display_data"
    }
   ],
   "source": [
    "# Visualizar la comparación de importancia\n",
    "importance_comparison.plot(kind='bar', x='feature', y=['importance_historical', 'importance_recent'], legend=False)\n",
    "plt.title('Diferencia de las importancias de las características')\n",
    "plt.show()"
   ]
  },
  {
   "cell_type": "markdown",
   "metadata": {},
   "source": [
    "## Pasos \n",
    "\n",
    "**Entrenar el Modelo y Obtener la Importancia:** Entrenar modelo en datos históricos y recientes, y obtener la importancia de las características para cada conjunto de datos.\n",
    "\n",
    "**Comparar Importancia de Características:** Analizar y comparar la importancia de las características entre los conjuntos de datos históricos y recientes para detectar cambios significativos.\n",
    "\n",
    "**Introducción de Nuevas Características:** Si hay nuevas características disponibles, introducirla en el modelo y evaluar su impacto en la importancia de las características y el rendimiento del modelo.\n",
    "\n",
    "Esta metodología permite detectar cambios en la relevancia de las características, lo cual puede ser un indicativo de cambios en la distribución de los datos subyacentes y la necesidad de ajustar o reentrenar tu modelo.\n",
    "\n",
    "## Conclusion \n",
    "\n",
    "En este caso vemos que la mayor diferencia es de 0.005 por lo que no es para tomar una decicion, sin embargo se debe evaluar usar metodologias de seleccion de variables y modelos para en ese caso si tomar una decision.\n",
    "\n",
    "# Experimento 6: A/B test \n",
    "\n",
    "Pero lo que entiendo es que es más para ver si un modelo nuevo supera al historico"
   ]
  },
  {
   "cell_type": "code",
   "execution_count": 58,
   "metadata": {},
   "outputs": [
    {
     "data": {
      "text/plain": [
       "RandomForestClassifier(random_state=63)"
      ]
     },
     "execution_count": 58,
     "metadata": {},
     "output_type": "execute_result"
    }
   ],
   "source": [
    "model_historical = RandomForestClassifier(random_state=n3)\n",
    "model_historical.fit(X_historical, y_historical)\n",
    "\n",
    "model_recent = RandomForestClassifier(random_state=n4)\n",
    "model_recent.fit(X_recent, y_recent)"
   ]
  },
  {
   "cell_type": "code",
   "execution_count": 59,
   "metadata": {},
   "outputs": [],
   "source": [
    "# Obtener predicciones y calcular los errores\n",
    "y_pred_historical = model_historical.predict(X_historical)\n",
    "y_pred_recent = model_recent.predict(X_recent)"
   ]
  },
  {
   "cell_type": "code",
   "execution_count": null,
   "metadata": {},
   "outputs": [],
   "source": [
    "# Obtener predicciones y calcular los errores\n",
    "errors_historical = y_historical - y_pred_historical\n",
    "errors_recent = y_recent - y_pred_recent"
   ]
  },
  {
   "cell_type": "code",
   "execution_count": 63,
   "metadata": {},
   "outputs": [
    {
     "name": "stdout",
     "output_type": "stream",
     "text": [
      "t-statistic: nan, p-value: nan\n",
      "La diferencia en rendimiento no es estadísticamente significativa.\n"
     ]
    }
   ],
   "source": [
    "# Realizar la prueba t\n",
    "t_stat, p_value = ttest_ind(errors_historical, errors_recent)\n",
    "print(f\"t-statistic: {t_stat}, p-value: {p_value}\")\n",
    "\n",
    "threshold_p_value = 0.05  # Nivel de significancia\n",
    "if p_value < threshold_p_value:\n",
    "    print(\"La diferencia en rendimiento es estadísticamente significativa.\")\n",
    "else:\n",
    "    print(\"La diferencia en rendimiento no es estadísticamente significativa.\")"
   ]
  },
  {
   "cell_type": "markdown",
   "metadata": {},
   "source": [
    "No tiendo el error, creo que toca train test pero no me queda claro\n",
    "\n",
    "# Experimento 7: Benchmarking\n",
    "\n",
    "Modelo actual vs otro tipo de modelos\n",
    "\n",
    "1. Ordenar los datos\n",
    "2. Seleccionar los modelos a entrenar\n",
    "3. Calcular metricas\n",
    "4. Elegir modelo dado las metricas\n",
    "5. cross validation (se recomienda)"
   ]
  },
  {
   "cell_type": "code",
   "execution_count": 68,
   "metadata": {},
   "outputs": [],
   "source": [
    "# Definir los modelos\n",
    "models = {\n",
    "    \"Decision Tree\": DecisionTreeClassifier(random_state=n3),\n",
    "    \"Random Forest\": RandomForestClassifier(random_state=n3),\n",
    "    \"Support Vector Machine\": SVC(random_state=n3),\n",
    "    \"Neural Network\": MLPClassifier(random_state=n3)\n",
    "}"
   ]
  },
  {
   "cell_type": "code",
   "execution_count": 71,
   "metadata": {},
   "outputs": [
    {
     "name": "stderr",
     "output_type": "stream",
     "text": [
      "C:\\Users\\Oscar\\AppData\\Roaming\\Python\\Python311\\site-packages\\sklearn\\metrics\\_classification.py:1318: UndefinedMetricWarning: Precision and F-score are ill-defined and being set to 0.0 in labels with no predicted samples. Use `zero_division` parameter to control this behavior.\n",
      "  _warn_prf(average, modifier, msg_start, len(result))\n",
      "C:\\Users\\Oscar\\AppData\\Roaming\\Python\\Python311\\site-packages\\sklearn\\metrics\\_classification.py:1318: UndefinedMetricWarning: Precision and F-score are ill-defined and being set to 0.0 in labels with no predicted samples. Use `zero_division` parameter to control this behavior.\n",
      "  _warn_prf(average, modifier, msg_start, len(result))\n",
      "C:\\Users\\Oscar\\AppData\\Roaming\\Python\\Python311\\site-packages\\sklearn\\metrics\\_classification.py:1318: UndefinedMetricWarning: Precision and F-score are ill-defined and being set to 0.0 in labels with no predicted samples. Use `zero_division` parameter to control this behavior.\n",
      "  _warn_prf(average, modifier, msg_start, len(result))\n"
     ]
    }
   ],
   "source": [
    "# Entrenar y evaluar cada modelo\n",
    "results = {}\n",
    "\n",
    "for model_name, model in models.items():\n",
    "    # Entrenar el modelo\n",
    "    model.fit(X_train, y_train)\n",
    "    # Predecir en el conjunto de prueba\n",
    "    y_pred = model.predict(X_test)\n",
    "    # Evaluar el rendimiento\n",
    "    accuracy = accuracy_score(y_test, y_pred)\n",
    "    recall = recall_score(y_test, y_pred, average='weighted')\n",
    "    report = classification_report(y_test, y_pred, output_dict=True)\n",
    "    # Guardar los resultados\n",
    "    results[model_name] = {\n",
    "        \"accuracy\": accuracy,\n",
    "        \"recall\": recall,\n",
    "        \"report\": report,\n",
    "    }"
   ]
  },
  {
   "cell_type": "code",
   "execution_count": 72,
   "metadata": {},
   "outputs": [
    {
     "name": "stdout",
     "output_type": "stream",
     "text": [
      "Model: Decision Tree\n",
      "Accuracy: 0.8226214166621847\n",
      "Recall: 0.8226214166621847\n",
      "Classification Report:\n",
      " {'0': {'precision': 0.8198545778305386, 'recall': 0.8222949843726745, 'f1-score': 0.8210729677515232, 'support': 6719}, '1': {'precision': 0.8483318700614574, 'recall': 0.8508530544854155, 'f1-score': 0.8495905918558003, 'support': 9085}, '2': {'precision': 0.804424778761062, 'recall': 0.7651515151515151, 'f1-score': 0.7842968075927524, 'support': 1188}, '3': {'precision': 0.6862745098039216, 'recall': 0.7608695652173914, 'f1-score': 0.7216494845360826, 'support': 92}, '4': {'precision': 0.5555555555555556, 'recall': 0.5555555555555556, 'f1-score': 0.5555555555555556, 'support': 288}, '5': {'precision': 0.6412478336221837, 'recall': 0.6642728904847397, 'f1-score': 0.652557319223986, 'support': 557}, '6': {'precision': 0.8232558139534883, 'recall': 0.7996987951807228, 'f1-score': 0.8113063407181055, 'support': 664}, 'accuracy': 0.8226214166621847, 'macro avg': {'precision': 0.7398492770840296, 'recall': 0.7455280514925734, 'f1-score': 0.7422898667476865, 'support': 18593}, 'weighted avg': {'precision': 0.8227993730874257, 'recall': 0.8226214166621847, 'f1-score': 0.8226557303487616, 'support': 18593}}\n",
      "Model: Random Forest\n",
      "Accuracy: 0.8837196794492551\n",
      "Recall: 0.8837196794492551\n",
      "Classification Report:\n",
      " {'0': {'precision': 0.8909145698357692, 'recall': 0.8800416728679863, 'f1-score': 0.8854447439353099, 'support': 6719}, '1': {'precision': 0.8792093704245973, 'recall': 0.9253714914694552, 'f1-score': 0.9017000053627929, 'support': 9085}, '2': {'precision': 0.8625106746370623, 'recall': 0.8501683501683501, 'f1-score': 0.8562950402713014, 'support': 1188}, '3': {'precision': 0.918918918918919, 'recall': 0.7391304347826086, 'f1-score': 0.8192771084337348, 'support': 92}, '4': {'precision': 0.9259259259259259, 'recall': 0.4340277777777778, 'f1-score': 0.5910165484633569, 'support': 288}, '5': {'precision': 0.8129175946547884, 'recall': 0.6552962298025135, 'f1-score': 0.7256461232604373, 'support': 557}, '6': {'precision': 0.9610619469026549, 'recall': 0.8177710843373494, 'f1-score': 0.8836452400325469, 'support': 664}, 'accuracy': 0.8837196794492551, 'macro avg': {'precision': 0.8930655716142452, 'recall': 0.7574010058865772, 'f1-score': 0.8090035442513545, 'support': 18593}, 'weighted avg': {'precision': 0.8842296695894217, 'recall': 0.8837196794492551, 'f1-score': 0.8817855042777203, 'support': 18593}}\n",
      "Model: Support Vector Machine\n",
      "Accuracy: 0.7111278438121874\n",
      "Recall: 0.7111278438121874\n",
      "Classification Report:\n",
      " {'0': {'precision': 0.6909583571021106, 'recall': 0.7210894478344991, 'f1-score': 0.7057024251693249, 'support': 6719}, '1': {'precision': 0.7345281711060501, 'recall': 0.8165107319757843, 'f1-score': 0.7733527939949958, 'support': 9085}, '2': {'precision': 0.6258064516129033, 'recall': 0.7348484848484849, 'f1-score': 0.6759581881533101, 'support': 1188}, '3': {'precision': 0.0, 'recall': 0.0, 'f1-score': 0.0, 'support': 92}, '4': {'precision': 0.0, 'recall': 0.0, 'f1-score': 0.0, 'support': 288}, '5': {'precision': 0.0, 'recall': 0.0, 'f1-score': 0.0, 'support': 557}, '6': {'precision': 0.9885057471264368, 'recall': 0.12951807228915663, 'f1-score': 0.22902796271637815, 'support': 664}, 'accuracy': 0.7111278438121874, 'macro avg': {'precision': 0.4342569609925001, 'recall': 0.343138105278275, 'f1-score': 0.34057733857628697, 'support': 18593}, 'weighted avg': {'precision': 0.6838898250134797, 'recall': 0.7111278438121874, 'f1-score': 0.6842702965055149, 'support': 18593}}\n",
      "Model: Neural Network\n",
      "Accuracy: 0.6073791211746357\n",
      "Recall: 0.6073791211746357\n",
      "Classification Report:\n",
      " {'0': {'precision': 0.7285791757049892, 'recall': 0.3999107009971722, 'f1-score': 0.5163832036129528, 'support': 6719}, '1': {'precision': 0.6422220340418325, 'recall': 0.8347826086956521, 'f1-score': 0.725950033502441, 'support': 9085}, '2': {'precision': 0.7307132459970888, 'recall': 0.4225589225589226, 'f1-score': 0.5354666666666668, 'support': 1188}, '3': {'precision': 1.0, 'recall': 0.06521739130434782, 'f1-score': 0.12244897959183672, 'support': 92}, '4': {'precision': 0.08917748917748917, 'recall': 0.3576388888888889, 'f1-score': 0.14275814275814275, 'support': 288}, '5': {'precision': 0.32068965517241377, 'recall': 0.16696588868940754, 'f1-score': 0.21959858323494685, 'support': 557}, '6': {'precision': 0.33194154488517746, 'recall': 0.4789156626506024, 'f1-score': 0.3921085080147966, 'support': 664}, 'accuracy': 0.6073791211746357, 'macro avg': {'precision': 0.5490461635684273, 'recall': 0.38942715196928485, 'f1-score': 0.3792448739116834, 'support': 18593}, 'weighted avg': {'precision': 0.6515739492117637, 'recall': 0.6073791211746357, 'f1-score': 0.5989364444073357, 'support': 18593}}\n"
     ]
    }
   ],
   "source": [
    "# Mostrar los resultados\n",
    "for model_name, metrics in results.items():\n",
    "    print(f\"Model: {model_name}\")\n",
    "    print(f\"Accuracy: {metrics['accuracy']}\")\n",
    "    print(f\"Recall: {metrics['recall']}\")\n",
    "    print(f\"Classification Report:\\n {metrics['report']}\")"
   ]
  },
  {
   "cell_type": "code",
   "execution_count": 79,
   "metadata": {},
   "outputs": [
    {
     "data": {
      "image/png": "[encoded data removed]",
      "text/plain": [
       "<Figure size 1000x500 with 1 Axes>"
      ]
     },
     "metadata": {},
     "output_type": "display_data"
    }
   ],
   "source": [
    "# Comparar la precisión de los modelos\n",
    "accuracy_comparison = {model: metrics['accuracy'] for model, metrics in results.items()}\n",
    "\n",
    "plt.figure(figsize=(10, 5))\n",
    "plt.bar(accuracy_comparison.keys(), accuracy_comparison.values())\n",
    "plt.ylabel('Accuracy')\n",
    "plt.title('Model Comparison')\n",
    "plt.show()"
   ]
  },
  {
   "cell_type": "code",
   "execution_count": 80,
   "metadata": {},
   "outputs": [
    {
     "data": {
      "image/png": "[encoded data removed]",
      "text/plain": [
       "<Figure size 1000x500 with 1 Axes>"
      ]
     },
     "metadata": {},
     "output_type": "display_data"
    }
   ],
   "source": [
    "# Comparar el recall de los modelos\n",
    "recall_comparison = {model: metrics['recall'] for model, metrics in results.items()}\n",
    "\n",
    "plt.figure(figsize=(10, 5))\n",
    "plt.bar(recall_comparison.keys(), recall_comparison.values())\n",
    "plt.ylabel('Recall')\n",
    "plt.title('Model Comparison')\n",
    "plt.show()"
   ]
  },
  {
   "cell_type": "code",
   "execution_count": 81,
   "metadata": {},
   "outputs": [
    {
     "name": "stdout",
     "output_type": "stream",
     "text": [
      "El mejor modelo es: Random Forest con una precisión de 0.8837196794492551\n"
     ]
    }
   ],
   "source": [
    "# Seleccionar el mejor modelo basado en la precisión\n",
    "best_model_name = max(accuracy_comparison, key=accuracy_comparison.get)\n",
    "best_model_accuracy = accuracy_comparison[best_model_name]\n",
    "\n",
    "print(f\"El mejor modelo es: {best_model_name} con una precisión de {best_model_accuracy}\")"
   ]
  },
  {
   "cell_type": "code",
   "execution_count": 82,
   "metadata": {},
   "outputs": [
    {
     "name": "stdout",
     "output_type": "stream",
     "text": [
      "El mejor modelo es: Random Forest con un recall de 0.8837196794492551\n"
     ]
    }
   ],
   "source": [
    "# Seleccionar el mejor modelo basado en la recall\n",
    "best_model_namer = max(recall_comparison, key=recall_comparison.get)\n",
    "best_model_recall = recall_comparison[best_model_namer]\n",
    "\n",
    "print(f\"El mejor modelo es: {best_model_namer} con un recall de {best_model_recall}\")"
   ]
  },
  {
   "cell_type": "code",
   "execution_count": 97,
   "metadata": {},
   "outputs": [
    {
     "name": "stdout",
     "output_type": "stream",
     "text": [
      "Validación cruzada para Random Forest:\n",
      "Scores: [0.86694904 0.86795751 0.86789028 0.86620949 0.86989847]\n",
      "Mean Accuracy: 0.8677809586993914\n",
      "Standard Deviation: 0.0012400472811322145\n"
     ]
    }
   ],
   "source": [
    "# Realizar validación cruzada para el mejor modelo\n",
    "best_model = models[best_model_name]\n",
    "cross_val_scores = cross_val_score(best_model, X_train, y_train, cv=5)\n",
    "\n",
    "print(f\"Validación cruzada para {best_model_name}:\")\n",
    "print(f\"Scores: {cross_val_scores}\")\n",
    "print(f\"Mean Accuracy: {cross_val_scores.mean()}\")\n",
    "print(f\"Standard Deviation: {cross_val_scores.std()}\")"
   ]
  },
  {
   "cell_type": "markdown",
   "metadata": {},
   "source": [
    "Revisar lo del recall que esta raro\n",
    "\n",
    "# Experimento 8: Perturbaciones de Datos"
   ]
  },
  {
   "cell_type": "code",
   "execution_count": 98,
   "metadata": {},
   "outputs": [],
   "source": [
    "def add_noise(X, noise_level=0.1):\n",
    "    noise = np.random.normal(0, noise_level, X.shape)\n",
    "    return X + noise"
   ]
  },
  {
   "cell_type": "code",
   "execution_count": 99,
   "metadata": {},
   "outputs": [],
   "source": [
    "# Crear versiones perturbadas de los datos de prueba\n",
    "X_test_noisy = add_noise(X_test)"
   ]
  },
  {
   "cell_type": "code",
   "execution_count": 101,
   "metadata": {},
   "outputs": [
    {
     "data": {
      "text/plain": [
       "RandomForestClassifier(random_state=10)"
      ]
     },
     "execution_count": 101,
     "metadata": {},
     "output_type": "execute_result"
    }
   ],
   "source": [
    "# Entrenar el modelo\n",
    "model = RandomForestClassifier(random_state=n3)\n",
    "model.fit(X_train, y_train)"
   ]
  },
  {
   "cell_type": "code",
   "execution_count": 103,
   "metadata": {},
   "outputs": [
    {
     "name": "stdout",
     "output_type": "stream",
     "text": [
      "Precisión en datos originales: 0.8837196794492551\n",
      "Precisión en datos perturbados: 0.8835045447211316\n",
      "Recall en datos originales: 0.8837196794492551\n",
      "Recall en datos perturbados: 0.8835045447211316\n"
     ]
    }
   ],
   "source": [
    "# Evaluar el modelo en datos originales y perturbados\n",
    "y_pred_original = model.predict(X_test)\n",
    "accuracy_original = accuracy_score(y_test, y_pred_original)\n",
    "recall_original = recall_score(y_test, y_pred_original, average='weighted')\n",
    "\n",
    "y_pred_noisy = model.predict(X_test_noisy)\n",
    "accuracy_noisy = accuracy_score(y_test, y_pred_noisy)\n",
    "recall_noisy = recall_score(y_test, y_pred_noisy, average='weighted')\n",
    "\n",
    "print(f\"Precisión en datos originales: {accuracy_original}\")\n",
    "print(f\"Precisión en datos perturbados: {accuracy_noisy}\")\n",
    "\n",
    "print(f\"Recall en datos originales: {recall_original}\")\n",
    "print(f\"Recall en datos perturbados: {recall_noisy}\")"
   ]
  },
  {
   "cell_type": "code",
   "execution_count": 106,
   "metadata": {},
   "outputs": [
    {
     "name": "stdout",
     "output_type": "stream",
     "text": [
      "Caída en precisión debido a perturbaciones: 0.00021513472812351164\n",
      "Caída en recall debido a perturbaciones: 0.00021513472812351164\n"
     ]
    }
   ],
   "source": [
    "# Comparar la robustez\n",
    "\n",
    "robustness_drop = accuracy_original - accuracy_noisy\n",
    "print(f\"Caída en precisión debido a perturbaciones: {robustness_drop}\")\n",
    "\n",
    "robustness_drop2 = recall_original - recall_noisy\n",
    "print(f\"Caída en recall debido a perturbaciones: {robustness_drop2}\")"
   ]
  },
  {
   "cell_type": "code",
   "execution_count": 109,
   "metadata": {},
   "outputs": [
    {
     "name": "stdout",
     "output_type": "stream",
     "text": [
      "Scores de validación cruzada: [0.86842813 0.86352024 0.86694904 0.86862982 0.86485578]\n",
      "Media de precisión: 0.8664766015299035\n",
      "Desviación estándar de precisión: 0.002001758438436133\n"
     ]
    }
   ],
   "source": [
    "# Definir el modelo\n",
    "model = RandomForestClassifier(random_state=n3)\n",
    "\n",
    "# Definir la validación cruzada con k=5\n",
    "cv = StratifiedKFold(n_splits=5, shuffle=True, random_state=n4)\n",
    "\n",
    "# Calcular las puntuaciones de validación cruzada\n",
    "cv_scores = cross_val_score(model, X_train, y_train, cv=cv, scoring='accuracy')\n",
    "\n",
    "print(f\"Scores de validación cruzada: {cv_scores}\")\n",
    "print(f\"Media de precisión: {cv_scores.mean()}\")\n",
    "print(f\"Desviación estándar de precisión: {cv_scores.std()}\")"
   ]
  },
  {
   "cell_type": "markdown",
   "metadata": {},
   "source": [
    "Revisar si se puede cambiar la funcion de scoring\n",
    "\n",
    "Aca se pueden comparar con otros modelos, que se realiza acontinuacion"
   ]
  },
  {
   "cell_type": "code",
   "execution_count": 114,
   "metadata": {},
   "outputs": [],
   "source": [
    "# Definir los modelos\n",
    "models = {\n",
    "    \"Random Forest\": RandomForestClassifier(random_state=42),\n",
    "    \"Logistic Regression\": LogisticRegression(max_iter=1000, random_state=42),\n",
    "    \"Support Vector Machine\": SVC(random_state=42)\n",
    "}"
   ]
  },
  {
   "cell_type": "code",
   "execution_count": 115,
   "metadata": {},
   "outputs": [
    {
     "name": "stderr",
     "output_type": "stream",
     "text": [
      "C:\\Users\\Oscar\\AppData\\Roaming\\Python\\Python311\\site-packages\\sklearn\\linear_model\\_logistic.py:814: ConvergenceWarning: lbfgs failed to converge (status=1):\n",
      "STOP: TOTAL NO. of ITERATIONS REACHED LIMIT.\n",
      "\n",
      "Increase the number of iterations (max_iter) or scale the data as shown in:\n",
      "    https://scikit-learn.org/stable/modules/preprocessing.html\n",
      "Please also refer to the documentation for alternative solver options:\n",
      "    https://scikit-learn.org/stable/modules/linear_model.html#logistic-regression\n",
      "  n_iter_i = _check_optimize_result(\n",
      "C:\\Users\\Oscar\\AppData\\Roaming\\Python\\Python311\\site-packages\\sklearn\\linear_model\\_logistic.py:814: ConvergenceWarning: lbfgs failed to converge (status=1):\n",
      "STOP: TOTAL NO. of ITERATIONS REACHED LIMIT.\n",
      "\n",
      "Increase the number of iterations (max_iter) or scale the data as shown in:\n",
      "    https://scikit-learn.org/stable/modules/preprocessing.html\n",
      "Please also refer to the documentation for alternative solver options:\n",
      "    https://scikit-learn.org/stable/modules/linear_model.html#logistic-regression\n",
      "  n_iter_i = _check_optimize_result(\n",
      "C:\\Users\\Oscar\\AppData\\Roaming\\Python\\Python311\\site-packages\\sklearn\\linear_model\\_logistic.py:814: ConvergenceWarning: lbfgs failed to converge (status=1):\n",
      "STOP: TOTAL NO. of ITERATIONS REACHED LIMIT.\n",
      "\n",
      "Increase the number of iterations (max_iter) or scale the data as shown in:\n",
      "    https://scikit-learn.org/stable/modules/preprocessing.html\n",
      "Please also refer to the documentation for alternative solver options:\n",
      "    https://scikit-learn.org/stable/modules/linear_model.html#logistic-regression\n",
      "  n_iter_i = _check_optimize_result(\n",
      "C:\\Users\\Oscar\\AppData\\Roaming\\Python\\Python311\\site-packages\\sklearn\\linear_model\\_logistic.py:814: ConvergenceWarning: lbfgs failed to converge (status=1):\n",
      "STOP: TOTAL NO. of ITERATIONS REACHED LIMIT.\n",
      "\n",
      "Increase the number of iterations (max_iter) or scale the data as shown in:\n",
      "    https://scikit-learn.org/stable/modules/preprocessing.html\n",
      "Please also refer to the documentation for alternative solver options:\n",
      "    https://scikit-learn.org/stable/modules/linear_model.html#logistic-regression\n",
      "  n_iter_i = _check_optimize_result(\n",
      "C:\\Users\\Oscar\\AppData\\Roaming\\Python\\Python311\\site-packages\\sklearn\\linear_model\\_logistic.py:814: ConvergenceWarning: lbfgs failed to converge (status=1):\n",
      "STOP: TOTAL NO. of ITERATIONS REACHED LIMIT.\n",
      "\n",
      "Increase the number of iterations (max_iter) or scale the data as shown in:\n",
      "    https://scikit-learn.org/stable/modules/preprocessing.html\n",
      "Please also refer to the documentation for alternative solver options:\n",
      "    https://scikit-learn.org/stable/modules/linear_model.html#logistic-regression\n",
      "  n_iter_i = _check_optimize_result(\n",
      "C:\\Users\\Oscar\\AppData\\Roaming\\Python\\Python311\\site-packages\\sklearn\\linear_model\\_logistic.py:814: ConvergenceWarning: lbfgs failed to converge (status=1):\n",
      "STOP: TOTAL NO. of ITERATIONS REACHED LIMIT.\n",
      "\n",
      "Increase the number of iterations (max_iter) or scale the data as shown in:\n",
      "    https://scikit-learn.org/stable/modules/preprocessing.html\n",
      "Please also refer to the documentation for alternative solver options:\n",
      "    https://scikit-learn.org/stable/modules/linear_model.html#logistic-regression\n",
      "  n_iter_i = _check_optimize_result(\n"
     ]
    }
   ],
   "source": [
    "# Evaluar cada modelo con validación cruzada y perturbaciones de datos\n",
    "results = {}\n",
    "\n",
    "for model_name, model in models.items():\n",
    "    # Validación cruzada\n",
    "    cv_scores = cross_val_score(model, X_train, y_train, cv=cv, scoring='accuracy')\n",
    "    mean_cv_score = cv_scores.mean()\n",
    "    std_cv_score = cv_scores.std()\n",
    "    \n",
    "    # Entrenar el modelo y evaluar con datos perturbados\n",
    "    model.fit(X_train, y_train)\n",
    "    accuracy_original = accuracy_score(y_test, model.predict(X_test))\n",
    "    accuracy_noisy = accuracy_score(y_test, model.predict(add_noise(X_test)))\n",
    "    robustness_drop = accuracy_original - accuracy_noisy\n",
    "    \n",
    "    # Guardar los resultados\n",
    "    results[model_name] = {\n",
    "        \"cv_mean_accuracy\": mean_cv_score,\n",
    "        \"cv_std_accuracy\": std_cv_score,\n",
    "        \"original_accuracy\": accuracy_original,\n",
    "        \"noisy_accuracy\": accuracy_noisy,\n",
    "        \"robustness_drop\": robustness_drop\n",
    "    }"
   ]
  },
  {
   "cell_type": "code",
   "execution_count": 116,
   "metadata": {},
   "outputs": [
    {
     "name": "stdout",
     "output_type": "stream",
     "text": [
      "Model: Random Forest\n",
      "Mean CV Accuracy: 0.8672161063622703\n",
      "Std CV Accuracy: 0.0028606348861332817\n",
      "Original Accuracy: 0.8823750873984832\n",
      "Noisy Accuracy: 0.8822675200344215\n",
      "Robustness Drop: 0.00010756736406170031\n",
      "\n",
      "Model: Logistic Regression\n",
      "Mean CV Accuracy: 0.6540090429569612\n",
      "Std CV Accuracy: 0.0022723911453666128\n",
      "Original Accuracy: 0.6553541655461733\n",
      "Noisy Accuracy: 0.6551390308180498\n",
      "Robustness Drop: 0.00021513472812351164\n",
      "\n",
      "Model: Support Vector Machine\n",
      "Mean CV Accuracy: 0.7011254076138758\n",
      "Std CV Accuracy: 0.003429500303638713\n",
      "Original Accuracy: 0.7111278438121874\n",
      "Noisy Accuracy: 0.71128919485828\n",
      "Robustness Drop: -0.00016135104609260598\n",
      "\n"
     ]
    }
   ],
   "source": [
    "# Mostrar los resultados (demoro 37 minutos)\n",
    "for model_name, metrics in results.items():\n",
    "    print(f\"Model: {model_name}\")\n",
    "    print(f\"Mean CV Accuracy: {metrics['cv_mean_accuracy']}\")\n",
    "    print(f\"Std CV Accuracy: {metrics['cv_std_accuracy']}\")\n",
    "    print(f\"Original Accuracy: {metrics['original_accuracy']}\")\n",
    "    print(f\"Noisy Accuracy: {metrics['noisy_accuracy']}\")\n",
    "    print(f\"Robustness Drop: {metrics['robustness_drop']}\\n\")"
   ]
  },
  {
   "cell_type": "markdown",
   "metadata": {},
   "source": [
    "### Conclusiones \n",
    "\n",
    "**Perturbaciones de Datos**: Añade ruido a los datos y evalúa cómo afecta al rendimiento del modelo.\n",
    "Validación Cruzada: Usa k-fold cross-validation para evaluar la robustez del modelo en diferentes particiones de los datos.\n",
    "\n",
    "**Comparación de Modelos**: Compara múltiples modelos en términos de precisión promedio, desviación estándar y robustez ante perturbaciones.\n",
    "\n",
    "Este enfoque permite seleccionar el modelo más robusto y estable, asegurando un mejor rendimiento en producción y una menor sensibilidad a las variaciones en los datos de entrada.\n",
    "\n",
    "# Experimento 9: Reentrenamiento Programado\n",
    "\n",
    "Establecer un calendario regular para revisar y reentrenar el modelo, asegurando que se mantenga actualizado"
   ]
  },
  {
   "cell_type": "code",
   "execution_count": 117,
   "metadata": {},
   "outputs": [
    {
     "name": "stdout",
     "output_type": "stream",
     "text": [
      "ok_\n"
     ]
    }
   ],
   "source": [
    "print('ok_')"
   ]
  }
 ],
 "metadata": {
  "kernelspec": {
   "display_name": "Python 3",
   "language": "python",
   "name": "python3"
  },
  "language_info": {
   "codemirror_mode": {
    "name": "ipython",
    "version": 3
   },
   "file_extension": ".py",
   "mimetype": "text/x-python",
   "name": "python",
   "nbconvert_exporter": "python",
   "pygments_lexer": "ipython3",
   "version": "3.11.0"
  }
 },
 "nbformat": 4,
 "nbformat_minor": 2
}
