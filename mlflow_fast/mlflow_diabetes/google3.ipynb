{
 "cells": [
  {
   "cell_type": "code",
   "execution_count": 29,
   "metadata": {
    "tags": []
   },
   "outputs": [],
   "source": [
    "import seaborn as sns\n",
    "import pandas as pd\n",
    "from sklearn.model_selection import train_test_split\n",
    "from sklearn.tree import DecisionTreeClassifier\n",
    "from sklearn.metrics import accuracy_score, f1_score\n",
    "from sklearn.preprocessing import StandardScaler, MinMaxScaler\n",
    "from sklearn.feature_selection import RFE\n",
    "from sklearn.model_selection import train_test_split\n",
    "from sklearn.ensemble import RandomForestClassifier\n",
    "from sklearn.tree import DecisionTreeClassifier\n",
    "from sklearn.metrics import accuracy_score, recall_score, f1_score\n",
    "from imblearn.over_sampling import SMOTE\n",
    "\n",
    "def retiro_simbolo(dataframe, list_columns, simbol, simbol2):\n",
    "    '''\n",
    "    Esta funcion toma una lista de columnas y reemplaza un simbolo por uno dado por el usuario\n",
    "    '''\n",
    "    for columna in list_columns:\n",
    "        dataframe[columna] = dataframe[columna].str.replace(simbol, simbol2)\n",
    "        dataframe[columna] = dataframe[columna].str.replace(',','.')\n",
    "    return dataframe\n",
    "\n",
    "pd.set_option('display.max_columns', None)\n",
    "pd.set_option('display.max_rows', None)\n",
    "import warnings\n",
    "warnings.filterwarnings(\"ignore\")"
   ]
  },
  {
   "cell_type": "code",
   "execution_count": 2,
   "metadata": {
    "tags": []
   },
   "outputs": [],
   "source": [
    "import mlflow\n",
    "from mlflow.models import infer_signature\n",
    "mlflow.set_tracking_uri(\"http://Mlflow:5000\")"
   ]
  },
  {
   "cell_type": "code",
   "execution_count": 3,
   "metadata": {
    "tags": []
   },
   "outputs": [],
   "source": [
    "import os\n",
    "os.environ['MLFLOW_S3_ENDPOINT_URL'] = \"http://Minio:9000\"\n",
    "os.environ['AWS_ACCESS_KEY_ID'] = 'admin'\n",
    "os.environ['AWS_SECRET_ACCESS_KEY'] = 'supersecret'"
   ]
  },
  {
   "cell_type": "code",
   "execution_count": 27,
   "metadata": {
    "tags": []
   },
   "outputs": [
    {
     "data": {
      "text/html": [
       "<div>\n",
       "<style scoped>\n",
       "    .dataframe tbody tr th:only-of-type {\n",
       "        vertical-align: middle;\n",
       "    }\n",
       "\n",
       "    .dataframe tbody tr th {\n",
       "        vertical-align: top;\n",
       "    }\n",
       "\n",
       "    .dataframe thead th {\n",
       "        text-align: right;\n",
       "    }\n",
       "</style>\n",
       "<table border=\"1\" class=\"dataframe\">\n",
       "  <thead>\n",
       "    <tr style=\"text-align: right;\">\n",
       "      <th></th>\n",
       "      <th>age</th>\n",
       "      <th>discharge_disposition_id</th>\n",
       "      <th>time_in_hospital</th>\n",
       "      <th>num_lab_procedures</th>\n",
       "      <th>num_procedures</th>\n",
       "      <th>number_inpatient</th>\n",
       "      <th>diag_1</th>\n",
       "      <th>diag_2</th>\n",
       "      <th>diag_3</th>\n",
       "      <th>number_diagnoses</th>\n",
       "      <th>readmitted</th>\n",
       "    </tr>\n",
       "  </thead>\n",
       "  <tbody>\n",
       "    <tr>\n",
       "      <th>0</th>\n",
       "      <td>5</td>\n",
       "      <td>25</td>\n",
       "      <td>1</td>\n",
       "      <td>41</td>\n",
       "      <td>0</td>\n",
       "      <td>0</td>\n",
       "      <td>2.0</td>\n",
       "      <td>0.0</td>\n",
       "      <td>0.0</td>\n",
       "      <td>1</td>\n",
       "      <td>0</td>\n",
       "    </tr>\n",
       "    <tr>\n",
       "      <th>1</th>\n",
       "      <td>15</td>\n",
       "      <td>1</td>\n",
       "      <td>3</td>\n",
       "      <td>59</td>\n",
       "      <td>0</td>\n",
       "      <td>0</td>\n",
       "      <td>2.0</td>\n",
       "      <td>2.0</td>\n",
       "      <td>2.0</td>\n",
       "      <td>9</td>\n",
       "      <td>1</td>\n",
       "    </tr>\n",
       "    <tr>\n",
       "      <th>2</th>\n",
       "      <td>25</td>\n",
       "      <td>1</td>\n",
       "      <td>2</td>\n",
       "      <td>11</td>\n",
       "      <td>5</td>\n",
       "      <td>1</td>\n",
       "      <td>6.0</td>\n",
       "      <td>2.0</td>\n",
       "      <td>0.0</td>\n",
       "      <td>6</td>\n",
       "      <td>0</td>\n",
       "    </tr>\n",
       "    <tr>\n",
       "      <th>3</th>\n",
       "      <td>35</td>\n",
       "      <td>1</td>\n",
       "      <td>2</td>\n",
       "      <td>44</td>\n",
       "      <td>1</td>\n",
       "      <td>0</td>\n",
       "      <td>0.0</td>\n",
       "      <td>2.0</td>\n",
       "      <td>4.0</td>\n",
       "      <td>7</td>\n",
       "      <td>0</td>\n",
       "    </tr>\n",
       "    <tr>\n",
       "      <th>4</th>\n",
       "      <td>45</td>\n",
       "      <td>1</td>\n",
       "      <td>1</td>\n",
       "      <td>51</td>\n",
       "      <td>0</td>\n",
       "      <td>0</td>\n",
       "      <td>1.0</td>\n",
       "      <td>1.0</td>\n",
       "      <td>2.0</td>\n",
       "      <td>5</td>\n",
       "      <td>0</td>\n",
       "    </tr>\n",
       "  </tbody>\n",
       "</table>\n",
       "</div>"
      ],
      "text/plain": [
       "   age  discharge_disposition_id  time_in_hospital  num_lab_procedures  \\\n",
       "0    5                        25                 1                  41   \n",
       "1   15                         1                 3                  59   \n",
       "2   25                         1                 2                  11   \n",
       "3   35                         1                 2                  44   \n",
       "4   45                         1                 1                  51   \n",
       "\n",
       "   num_procedures  number_inpatient  diag_1  diag_2  diag_3  number_diagnoses  \\\n",
       "0               0                 0     2.0     0.0     0.0                 1   \n",
       "1               0                 0     2.0     2.0     2.0                 9   \n",
       "2               5                 1     6.0     2.0     0.0                 6   \n",
       "3               1                 0     0.0     2.0     4.0                 7   \n",
       "4               0                 0     1.0     1.0     2.0                 5   \n",
       "\n",
       "   readmitted  \n",
       "0           0  \n",
       "1           1  \n",
       "2           0  \n",
       "3           0  \n",
       "4           0  "
      ]
     },
     "execution_count": 27,
     "metadata": {},
     "output_type": "execute_result"
    }
   ],
   "source": [
    "df = pd.read_csv('diabetes.csv', sep = ',', decimal = '.', header = 0, encoding = 'utf-8')\n",
    "\n",
    "### procesamiento\n",
    "\n",
    "df = df.rename(columns=lambda x: x.replace(' ', '_').lower())\n",
    "df = df.loc[:,['age', 'discharge_disposition_id', 'time_in_hospital',\n",
    "               'num_lab_procedures', 'num_procedures', 'number_inpatient', 'diag_1',\n",
    "               'diag_2', 'diag_3', 'number_diagnoses', 'readmitted']]\n",
    "\n",
    "\n",
    "# df['gender'] = df['gender'].replace({'Female':1,\n",
    "#                                    'Male':0,\n",
    "#                                    'Unknown/Invalid' : np.nan})\n",
    "\n",
    "df['age'] = df['age'].replace({'[0-10)':5,\n",
    "                               '[10-20)':15, \n",
    "                               '[20-30)':25, \n",
    "                               '[30-40)':35,\n",
    "                               '[40-50)':45, \n",
    "                               '[50-60)':55,\n",
    "                               '[60-70)':65, \n",
    "                               '[70-80)':75,\n",
    "                               '[80-90)':85, \n",
    "                               '[90-100)':95})\n",
    "\n",
    "# df['race'] = df['race'].replace({'Caucasian':0,\n",
    "#                                'AfricanAmerican':1,\n",
    "#                                'Other':2, \n",
    "#                                'Asian':3, \n",
    "#                                'Hispanic':4,\n",
    "#                                '?': np.nan})\n",
    "\n",
    "df['readmitted'] = df['readmitted'].replace({'NO':0,\n",
    "                                            '>30':1,\n",
    "                                            '<30':0})\n",
    "\n",
    "\n",
    "# df['weight'] = df['weight'].replace({'[0-25)':12.5,\n",
    "#                                     '[25-50)': 37.5,\n",
    "#                                     '[50-75)': 62.5,\n",
    "#                                     '[75-100)': 87.5,\n",
    "#                                     '[100-125)': 112.5,\n",
    "#                                     '[125-150)': 137.5, \n",
    "#                                     '[150-175)': 162.5, \n",
    "#                                     '[175-200)': 187.5, \n",
    "#                                     '>200': 200,\n",
    "#                                     '?': np.nan})\n",
    "\n",
    "# df['change'] = df['change'].replace({'Ch':1,\n",
    "#                                     'No':0})\n",
    "\n",
    "# df['diabetesMed'] = df['diabetesMed'].replace({'Yes':1,\n",
    "#                                                'No':0})\n",
    " \n",
    "# similar_columns = ['metformin', 'repaglinide', 'nateglinide', 'chlorpropamide', 'glimepiride', \n",
    "#                    'acetohexamide', 'glipizide', 'glyburide', 'tolbutamide', 'pioglitazone', \n",
    "#                    'rosiglitazone', 'acarbose', 'miglitol', 'troglitazone', 'tolazamide', 'insulin', \n",
    "#                    'glyburide-metformin', 'glipizide-metformin', 'glimepiride-pioglitazone', \n",
    "#                    'metformin-rosiglitazone', 'metformin-pioglitazone']\n",
    "\n",
    "# for col in similar_columns:\n",
    "#     df[col] = df[col].replace({'No':-1,\n",
    "#                                'Steady':0,\n",
    "#                                'Up':1,\n",
    "#                                'Down':-1})\n",
    "\n",
    "\n",
    "# df['A1Cresult'] = df['A1Cresult'].replace({'>7': 1,\n",
    "#                                            '>8': 1,\n",
    "#                                            'Norm': 0,\n",
    "#                                            'None': -1})\n",
    "\n",
    "# df['max_glu_serum'] = df['max_glu_serum'].replace({'>200': 1,\n",
    "#                                                   '>300': 1,\n",
    "#                                                   'Norm': 0,\n",
    "#                                                   'None': -1})   \n",
    "\n",
    "df = retiro_simbolo(df, ['diag_1', 'diag_2', 'diag_3'], '?', '0')\n",
    "\n",
    "diag_columns = ['diag_1', 'diag_2', 'diag_3']\n",
    "\n",
    "for col in diag_columns:\n",
    "    df.loc[df[col].str.contains('V|E', na=False), col] = 0\n",
    "    df[col] = df[col].astype(float)\n",
    "    df[col] = df[col] // 100\n",
    "\n",
    "\n",
    "# df = df.drop(['max_glu_serum', 'A1Cresult', 'weight'], axis=1)  # tienen mas del 84% de los datos nulos\n",
    "# df = df.drop(['num_medications', 'diabetesMed', 'change'], axis=1)  # correlaciones +40 y 35\n",
    "# df = df.drop(['payer_code', 'medical_specialty', 'examide', 'citoglipton'], axis=1)  # no num\n",
    "# df = df.drop(['encounter_id'], axis=1)  # id\n",
    "\n",
    "# df = df.drop(['patient_nbr'], axis=1)  # ni idea\n",
    "\n",
    "df = df.dropna()\n",
    "df = df.drop_duplicates()\n",
    "\n",
    "### fin procesamiento\n",
    "\n",
    "df.head()"
   ]
  },
  {
   "cell_type": "code",
   "execution_count": 30,
   "metadata": {
    "tags": []
   },
   "outputs": [],
   "source": [
    "# Separar las características (X) y la variable objetivo (y)\n",
    "X = df.drop(['readmitted'], axis=1)\n",
    "y = df['readmitted']\n",
    "\n",
    "## Escalar las características\n",
    "scaler = MinMaxScaler()\n",
    "scaler2 = StandardScaler()\n",
    "X_scaled = scaler.fit_transform(X)\n",
    "X_scaled = scaler2.fit_transform(X_scaled)\n",
    "\n",
    "## Balanceo de clases\n",
    "smote = SMOTE(random_state=42)\n",
    "X_resampled, y_resampled = smote.fit_resample(X_scaled, y)\n",
    "\n",
    "## Dividir el conjunto de datos en conjuntos de entrenamiento y prueba\n",
    "X_train, X_test, y_train, y_test = train_test_split(X_resampled, y_resampled, test_size=0.2, random_state=42)"
   ]
  },
  {
   "cell_type": "code",
   "execution_count": 31,
   "metadata": {
    "tags": []
   },
   "outputs": [
    {
     "name": "stderr",
     "output_type": "stream",
     "text": [
      "2024/05/06 02:22:35 INFO mlflow.tracking.fluent: Experiment with name 'Readmitted-Survived-Classifier-Experiment' does not exist. Creating a new experiment.\n"
     ]
    }
   ],
   "source": [
    "EXPERIMENT_NAME = \"Readmitted-Survived-Classifier-Experiment\"\n",
    "mlflow.set_experiment(EXPERIMENT_NAME)\n",
    "\n",
    "current_experiment=dict(mlflow.get_experiment_by_name(EXPERIMENT_NAME))\n",
    "experiment_id=current_experiment['experiment_id']"
   ]
  },
  {
   "cell_type": "code",
   "execution_count": 32,
   "metadata": {
    "tags": []
   },
   "outputs": [
    {
     "name": "stderr",
     "output_type": "stream",
     "text": [
      "Successfully registered model 'tracking-readmitted-Decision Tree'.\n",
      "2024/05/06 02:22:58 INFO mlflow.store.model_registry.abstract_store: Waiting up to 300 seconds for model version to finish creation. Model name: tracking-readmitted-Decision Tree, version 1\n",
      "Created version '1' of model 'tracking-readmitted-Decision Tree'.\n"
     ]
    }
   ],
   "source": [
    "model_name = 'Decision Tree'\n",
    "RUN_NAME = f'Readmitted Classifier Experiment {model_name}'\n",
    "params = {'max_depth':3, 'min_samples_split':2}\n",
    "with mlflow.start_run(experiment_id=experiment_id, run_name=RUN_NAME):\n",
    "    \n",
    "    model = DecisionTreeClassifier(**params)\n",
    "    \n",
    "    model.fit(X_train, y_train)  # Train model\n",
    "    predictions = model.predict(X_test)  # Predictions\n",
    "\n",
    "    # Calculate metrics\n",
    "    accuracy = accuracy_score(y_test, predictions)\n",
    "    f1 = f1_score(y_test, predictions, average='weighted')  \n",
    "    \n",
    "    # Log the hyperparameters\n",
    "    mlflow.log_params(params)\n",
    "\n",
    "    # Log the loss metric\n",
    "    mlflow.log_metric(f\"{model_name}_accuracy\", accuracy)\n",
    "    mlflow.log_metric(f\"{model_name}_f1\", f1)\n",
    "\n",
    "    # Set a tag that we can use to remind ourselves what this run was for\n",
    "    mlflow.set_tag(\"Training Info\", f\"{model_name} model for Readmitted\")\n",
    "\n",
    "    # Infer the model signature\n",
    "    signature = infer_signature(X_train, model.predict(X_train))\n",
    "    \n",
    "    #log the model\n",
    "\n",
    "    model_info = mlflow.sklearn.log_model(\n",
    "    sk_model=model,\n",
    "    artifact_path=f\"readmitted_{model_name}_model\",\n",
    "    signature=signature,\n",
    "    input_example=X_train,\n",
    "    registered_model_name=f\"tracking-readmitted-{model_name}\",)\n",
    "\n",
    "    mlflow.end_run() "
   ]
  },
  {
   "cell_type": "code",
   "execution_count": null,
   "metadata": {},
   "outputs": [],
   "source": [
    "from mlflow import MlflowClient\n",
    "\n",
    "client = MlflowClient()\n",
    "\n",
    "client.set_registered_model_tag(\"tracking-readmitted-Decision Tree\", \"task\", \"classification\")"
   ]
  },
  {
   "cell_type": "code",
   "execution_count": null,
   "metadata": {},
   "outputs": [],
   "source": [
    "model_name = 'RF'\n",
    "RUN_NAME = f'Readmitted Classifier Experiment {model_name}'\n",
    "params = {'n_estimators':200}\n",
    "with mlflow.start_run(experiment_id=experiment_id, run_name=RUN_NAME):\n",
    "    \n",
    "    model = RandomForestClassifier(**params)\n",
    "    \n",
    "    model.fit(X_train, y_train)  # Train model\n",
    "    predictions = model.predict(X_test)  # Predictions\n",
    "\n",
    "    # Calculate metrics\n",
    "    accuracy = accuracy_score(y_test, predictions)\n",
    "    f1 = f1_score(y_test, predictions, average='weighted')  \n",
    "    \n",
    "    # Log the hyperparameters\n",
    "    mlflow.log_params(params)\n",
    "\n",
    "    # Log the loss metric\n",
    "    mlflow.log_metric(f\"{model_name}_accuracy\", accuracy)\n",
    "    mlflow.log_metric(f\"{model_name}_f1\", f1)\n",
    "\n",
    "    # Set a tag that we can use to remind ourselves what this run was for\n",
    "    mlflow.set_tag(\"Training Info\", f\"{model_name} model for Readmitted\")\n",
    "\n",
    "    # Infer the model signature\n",
    "    signature = infer_signature(X_train, model.predict(X_train))\n",
    "    \n",
    "    #log the model\n",
    "\n",
    "    model_info = mlflow.sklearn.log_model(\n",
    "    sk_model=model,\n",
    "    artifact_path=f\"readmitted_{model_name}_model\",\n",
    "    signature=signature,\n",
    "    input_example=X_train,\n",
    "    registered_model_name=f\"tracking-readmitted-{model_name}\",)\n",
    "\n",
    "    mlflow.end_run() "
   ]
  },
  {
   "cell_type": "code",
   "execution_count": 33,
   "metadata": {
    "tags": []
   },
   "outputs": [],
   "source": [
    "from mlflow import MlflowClient\n",
    "\n",
    "client = MlflowClient()\n",
    "\n",
    "client.set_registered_model_tag(\"tracking-readmitted-RF\", \"task\", \"classification\")"
   ]
  },
  {
   "cell_type": "markdown",
   "metadata": {},
   "source": [
    "# load"
   ]
  },
  {
   "cell_type": "code",
   "execution_count": 34,
   "metadata": {
    "tags": []
   },
   "outputs": [
    {
     "data": {
      "application/vnd.jupyter.widget-view+json": {
       "model_id": "9a1dbb39ea554cc9837374aefc424cda",
       "version_major": 2,
       "version_minor": 0
      },
      "text/plain": [
       "Downloading artifacts:   0%|          | 0/10 [00:00<?, ?it/s]"
      ]
     },
     "metadata": {},
     "output_type": "display_data"
    },
    {
     "name": "stderr",
     "output_type": "stream",
     "text": [
      "2024/05/06 02:22:58 INFO mlflow.store.artifact.artifact_repo: The progress bar can be disabled by setting the environment variable MLFLOW_ENABLE_ARTIFACTS_PROGRESS_BAR to false\n"
     ]
    }
   ],
   "source": [
    "model_name = \"tracking-readmitted-Decision Tree\"\n",
    "model_version = 1\n",
    "\n",
    "lr = mlflow.pyfunc.load_model(model_uri=f\"models:/{model_name}/{model_version}\")"
   ]
  },
  {
   "cell_type": "code",
   "execution_count": 35,
   "metadata": {
    "tags": []
   },
   "outputs": [
    {
     "data": {
      "text/plain": [
       "array([0, 1, 0, ..., 1, 1, 1])"
      ]
     },
     "execution_count": 35,
     "metadata": {},
     "output_type": "execute_result"
    }
   ],
   "source": [
    "lr.predict(X_test)"
   ]
  },
  {
   "cell_type": "code",
   "execution_count": 36,
   "metadata": {
    "tags": []
   },
   "outputs": [
    {
     "data": {
      "text/plain": [
       "array([1])"
      ]
     },
     "execution_count": 36,
     "metadata": {},
     "output_type": "execute_result"
    }
   ],
   "source": [
    "user_input = [-0.060217, -0.516283, 0.201260, -0.257637,\t-0.786889, 0.280606, 0.309819, -0.958752, 0.277905, 0.810384]\n",
    "columns = ['age', 'discharge_disposition_id', 'time_in_hospital', 'num_lab_procedures', 'num_procedures', \n",
    "           'number_inpatient', 'diag_1', 'diag_2', 'diag_3', 'number_diagnoses']\n",
    "\n",
    "df_pred = pd.DataFrame([user_input], columns=columns)\n",
    "out_model = lr.predict(df_pred)\n",
    "out_model"
   ]
  },
  {
   "cell_type": "code",
   "execution_count": null,
   "metadata": {},
   "outputs": [],
   "source": [
    "model_name = \"tracking-readmitted-RF\"\n",
    "model_version = 1\n",
    "\n",
    "rf = mlflow.pyfunc.load_model(model_uri=f\"models:/{model_name}/{model_version}\")"
   ]
  },
  {
   "cell_type": "code",
   "execution_count": null,
   "metadata": {},
   "outputs": [],
   "source": [
    "rf.predict(X_test)"
   ]
  },
  {
   "cell_type": "code",
   "execution_count": null,
   "metadata": {},
   "outputs": [],
   "source": [
    "user_input = [-0.060217, -0.516283, 0.201260, -0.257637,\t-0.786889, 0.280606, 0.309819, -0.958752, 0.277905, 0.810384]\n",
    "columns = ['age', 'discharge_disposition_id', 'time_in_hospital', 'num_lab_procedures', 'num_procedures', \n",
    "           'number_inpatient', 'diag_1', 'diag_2', 'diag_3', 'number_diagnoses']\n",
    "\n",
    "df_pred = pd.DataFrame([user_input], columns=columns)\n",
    "out_model = rf.predict(df_pred)\n",
    "out_model"
   ]
  },
  {
   "cell_type": "code",
   "execution_count": 37,
   "metadata": {
    "tags": []
   },
   "outputs": [
    {
     "name": "stdout",
     "output_type": "stream",
     "text": [
      "ok_\n"
     ]
    }
   ],
   "source": [
    "print('ok_')"
   ]
  }
 ],
 "metadata": {
  "kernelspec": {
   "display_name": "Python 3 (ipykernel)",
   "language": "python",
   "name": "python3"
  },
  "language_info": {
   "codemirror_mode": {
    "name": "ipython",
    "version": 3
   },
   "file_extension": ".py",
   "mimetype": "text/x-python",
   "name": "python",
   "nbconvert_exporter": "python",
   "pygments_lexer": "ipython3",
   "version": "3.10.14"
  }
 },
 "nbformat": 4,
 "nbformat_minor": 4
}
