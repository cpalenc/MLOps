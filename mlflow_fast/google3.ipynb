{
 "cells": [
  {
   "cell_type": "code",
   "execution_count": 18,
   "metadata": {
    "tags": []
   },
   "outputs": [],
   "source": [
    "import seaborn as sns\n",
    "import pandas as pd\n",
    "from sklearn.model_selection import train_test_split\n",
    "from sklearn.tree import DecisionTreeClassifier\n",
    "from sklearn.metrics import accuracy_score, f1_score\n",
    "\n",
    "pd.set_option('display.max_columns', None)\n",
    "pd.set_option('display.max_rows', None)\n",
    "import warnings\n",
    "warnings.filterwarnings(\"ignore\")"
   ]
  },
  {
   "cell_type": "code",
   "execution_count": 20,
   "metadata": {
    "tags": []
   },
   "outputs": [],
   "source": [
    "import mlflow\n",
    "from mlflow.models import infer_signature\n",
    "mlflow.set_tracking_uri(\"http://Mlflow:5000\")"
   ]
  },
  {
   "cell_type": "code",
   "execution_count": 3,
   "metadata": {
    "tags": []
   },
   "outputs": [],
   "source": [
    "import os\n",
    "os.environ['MLFLOW_S3_ENDPOINT_URL'] = \"http://Minio:9000\"\n",
    "os.environ['AWS_ACCESS_KEY_ID'] = 'admin'\n",
    "os.environ['AWS_SECRET_ACCESS_KEY'] = 'supersecret'"
   ]
  },
  {
   "cell_type": "code",
   "execution_count": 10,
   "metadata": {
    "tags": []
   },
   "outputs": [
    {
     "data": {
      "text/html": [
       "<div>\n",
       "<style scoped>\n",
       "    .dataframe tbody tr th:only-of-type {\n",
       "        vertical-align: middle;\n",
       "    }\n",
       "\n",
       "    .dataframe tbody tr th {\n",
       "        vertical-align: top;\n",
       "    }\n",
       "\n",
       "    .dataframe thead th {\n",
       "        text-align: right;\n",
       "    }\n",
       "</style>\n",
       "<table border=\"1\" class=\"dataframe\">\n",
       "  <thead>\n",
       "    <tr style=\"text-align: right;\">\n",
       "      <th></th>\n",
       "      <th>elevation</th>\n",
       "      <th>horizontal_distance_to_roadways</th>\n",
       "      <th>hillshade_9am</th>\n",
       "      <th>horizontal_distance_to_fire_points</th>\n",
       "      <th>cover_type</th>\n",
       "    </tr>\n",
       "  </thead>\n",
       "  <tbody>\n",
       "    <tr>\n",
       "      <th>0</th>\n",
       "      <td>2991</td>\n",
       "      <td>1015</td>\n",
       "      <td>233</td>\n",
       "      <td>1570</td>\n",
       "      <td>1</td>\n",
       "    </tr>\n",
       "    <tr>\n",
       "      <th>1</th>\n",
       "      <td>2876</td>\n",
       "      <td>2495</td>\n",
       "      <td>192</td>\n",
       "      <td>1557</td>\n",
       "      <td>1</td>\n",
       "    </tr>\n",
       "    <tr>\n",
       "      <th>2</th>\n",
       "      <td>3171</td>\n",
       "      <td>4374</td>\n",
       "      <td>213</td>\n",
       "      <td>1052</td>\n",
       "      <td>0</td>\n",
       "    </tr>\n",
       "    <tr>\n",
       "      <th>3</th>\n",
       "      <td>3087</td>\n",
       "      <td>4774</td>\n",
       "      <td>193</td>\n",
       "      <td>752</td>\n",
       "      <td>0</td>\n",
       "    </tr>\n",
       "    <tr>\n",
       "      <th>4</th>\n",
       "      <td>2835</td>\n",
       "      <td>3596</td>\n",
       "      <td>231</td>\n",
       "      <td>3280</td>\n",
       "      <td>1</td>\n",
       "    </tr>\n",
       "  </tbody>\n",
       "</table>\n",
       "</div>"
      ],
      "text/plain": [
       "   elevation  horizontal_distance_to_roadways  hillshade_9am  \\\n",
       "0       2991                             1015            233   \n",
       "1       2876                             2495            192   \n",
       "2       3171                             4374            213   \n",
       "3       3087                             4774            193   \n",
       "4       2835                             3596            231   \n",
       "\n",
       "   horizontal_distance_to_fire_points  cover_type  \n",
       "0                                1570           1  \n",
       "1                                1557           1  \n",
       "2                                1052           0  \n",
       "3                                 752           0  \n",
       "4                                3280           1  "
      ]
     },
     "execution_count": 10,
     "metadata": {},
     "output_type": "execute_result"
    }
   ],
   "source": [
    "df = pd.read_csv('covertype_train.csv', sep = ',', decimal = '.', header = 0, encoding = 'utf-8')\n",
    "df = df.rename(columns=lambda x: x.replace(' ', '_').lower())\n",
    "df = df.loc[:,['elevation', 'horizontal_distance_to_roadways', 'hillshade_9am', \n",
    "               'horizontal_distance_to_fire_points', 'cover_type']]\n",
    "df.head()"
   ]
  },
  {
   "cell_type": "code",
   "execution_count": 11,
   "metadata": {
    "tags": []
   },
   "outputs": [],
   "source": [
    "X_train, X_test, y_train, y_test = train_test_split(df.drop('cover_type', axis = 1), df['cover_type'], test_size=0.5, random_state=1)"
   ]
  },
  {
   "cell_type": "code",
   "execution_count": 22,
   "metadata": {
    "tags": []
   },
   "outputs": [
    {
     "name": "stderr",
     "output_type": "stream",
     "text": [
      "2024/05/05 13:55:08 INFO mlflow.tracking.fluent: Experiment with name 'Cover-Survived-Classifier-Experiment' does not exist. Creating a new experiment.\n"
     ]
    }
   ],
   "source": [
    "EXPERIMENT_NAME = \"Cover-Survived-Classifier-Experiment\"\n",
    "mlflow.set_experiment(EXPERIMENT_NAME)\n",
    "\n",
    "current_experiment=dict(mlflow.get_experiment_by_name(EXPERIMENT_NAME))\n",
    "experiment_id=current_experiment['experiment_id']"
   ]
  },
  {
   "cell_type": "code",
   "execution_count": 23,
   "metadata": {
    "tags": []
   },
   "outputs": [
    {
     "name": "stderr",
     "output_type": "stream",
     "text": [
      "Registered model 'tracking-cover-Decision Tree' already exists. Creating a new version of this model...\n",
      "2024/05/05 13:55:20 INFO mlflow.store.model_registry.abstract_store: Waiting up to 300 seconds for model version to finish creation. Model name: tracking-cover-Decision Tree, version 2\n",
      "Created version '2' of model 'tracking-cover-Decision Tree'.\n"
     ]
    }
   ],
   "source": [
    "model_name = 'Decision Tree'\n",
    "RUN_NAME = f'Cover Classifier Experiment {model_name}'\n",
    "params = {'max_depth':3, 'min_samples_split':2}\n",
    "with mlflow.start_run(experiment_id=experiment_id, run_name=RUN_NAME):\n",
    "    \n",
    "    model = decision_tree = DecisionTreeClassifier(**params)\n",
    "    \n",
    "    model.fit(X_train, y_train)  # Train model\n",
    "    predictions = model.predict(X_test)  # Predictions\n",
    "\n",
    "    # Calculate metrics\n",
    "    accuracy = accuracy_score(y_test, predictions)\n",
    "    f1 = f1_score(y_test, predictions, average='weighted')  \n",
    "    \n",
    "    # Log the hyperparameters\n",
    "    mlflow.log_params(params)\n",
    "\n",
    "    # Log the loss metric\n",
    "    mlflow.log_metric(f\"{model_name}_accuracy\", accuracy)\n",
    "    mlflow.log_metric(f\"{model_name}_f1\", f1)\n",
    "\n",
    "    # Set a tag that we can use to remind ourselves what this run was for\n",
    "    mlflow.set_tag(\"Training Info\", f\"{model_name} model for Cover\")\n",
    "\n",
    "    # Infer the model signature\n",
    "    signature = infer_signature(X_train, model.predict(X_train))\n",
    "    \n",
    "    #log the model\n",
    "\n",
    "    model_info = mlflow.sklearn.log_model(\n",
    "    sk_model=model,\n",
    "    artifact_path=f\"cover_{model_name}_model\",\n",
    "    signature=signature,\n",
    "    input_example=X_train,\n",
    "    registered_model_name=f\"tracking-cover-{model_name}\",)\n",
    "\n",
    "    mlflow.end_run() "
   ]
  },
  {
   "cell_type": "code",
   "execution_count": null,
   "metadata": {},
   "outputs": [],
   "source": [
    "from mlflow import MlflowClient\n",
    "\n",
    "client = MlflowClient()\n",
    "\n",
    "client.set_registered_model_tag(\"tracking-cover-Decision Tree\", \"task\", \"classification\")"
   ]
  },
  {
   "cell_type": "code",
   "execution_count": 24,
   "metadata": {
    "tags": []
   },
   "outputs": [
    {
     "data": {
      "application/vnd.jupyter.widget-view+json": {
       "model_id": "2ce3196a14904cdebc39e11196eeb5ba",
       "version_major": 2,
       "version_minor": 0
      },
      "text/plain": [
       "Downloading artifacts:   0%|          | 0/10 [00:00<?, ?it/s]"
      ]
     },
     "metadata": {},
     "output_type": "display_data"
    },
    {
     "name": "stderr",
     "output_type": "stream",
     "text": [
      "2024/05/05 13:55:48 INFO mlflow.store.artifact.artifact_repo: The progress bar can be disabled by setting the environment variable MLFLOW_ENABLE_ARTIFACTS_PROGRESS_BAR to false\n"
     ]
    }
   ],
   "source": [
    "model_name = \"tracking-cover-Decision Tree\"\n",
    "model_version = 1\n",
    "\n",
    "lr = mlflow.pyfunc.load_model(model_uri=f\"models:/{model_name}/{model_version}\")"
   ]
  },
  {
   "cell_type": "code",
   "execution_count": 25,
   "metadata": {
    "tags": []
   },
   "outputs": [
    {
     "data": {
      "text/plain": [
       "array([0, 2, 0, ..., 0, 1, 1])"
      ]
     },
     "execution_count": 25,
     "metadata": {},
     "output_type": "execute_result"
    }
   ],
   "source": [
    "lr.predict(X_test)"
   ]
  },
  {
   "cell_type": "code",
   "execution_count": null,
   "metadata": {},
   "outputs": [],
   "source": [
    "# user_input = [elevation, horizontal_distance_to_roadways, hillshade_9am, horizontal_distance_to_fire_points]\n",
    "user_input = [2998, 319, 233, 955]\n",
    "df_pred = pd.DataFrame(user_input)\n",
    "df_pred = df_pred.T\n",
    "df_pred.columns = ['elevation', 'horizontal_distance_to_roadways', 'hillshade_9am', \n",
    "                'horizontal_distance_to_fire_points']\n",
    "out_model = lr.predict(df_pred)\n",
    "out_model"
   ]
  },
  {
   "cell_type": "code",
   "execution_count": null,
   "metadata": {},
   "outputs": [],
   "source": [
    "user_input = [2998, 319, 233, 955]\n",
    "columns = ['elevation', 'horizontal_distance_to_roadways', 'hillshade_9am', 'horizontal_distance_to_fire_points']\n",
    "df_pred = pd.DataFrame([user_input], columns=columns)\n",
    "out_model = lr.predict(df_pred)\n",
    "out_model"
   ]
  },
  {
   "cell_type": "code",
   "execution_count": 26,
   "metadata": {
    "tags": []
   },
   "outputs": [
    {
     "name": "stdout",
     "output_type": "stream",
     "text": [
      "ok_\n"
     ]
    }
   ],
   "source": [
    "print('ok_')"
   ]
  }
 ],
 "metadata": {
  "kernelspec": {
   "display_name": "Python 3 (ipykernel)",
   "language": "python",
   "name": "python3"
  },
  "language_info": {
   "codemirror_mode": {
    "name": "ipython",
    "version": 3
   },
   "file_extension": ".py",
   "mimetype": "text/x-python",
   "name": "python",
   "nbconvert_exporter": "python",
   "pygments_lexer": "ipython3",
   "version": "3.10.14"
  }
 },
 "nbformat": 4,
 "nbformat_minor": 4
}
