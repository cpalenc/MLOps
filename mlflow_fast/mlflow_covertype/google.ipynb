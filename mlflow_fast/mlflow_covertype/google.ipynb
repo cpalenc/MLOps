{
 "cells": [
  {
   "cell_type": "code",
   "execution_count": null,
   "metadata": {},
   "outputs": [],
   "source": [
    "import seaborn as sns\n",
    "import pandas as pd\n",
    "from sklearn.model_selection import train_test_split\n",
    "from sklearn.linear_model import LogisticRegression\n",
    "from sklearn.neighbors import KNeighborsClassifier\n",
    "from sklearn.tree import DecisionTreeClassifier\n",
    "from xgboost import XGBClassifier\n",
    "from sklearn.metrics import accuracy_score, f1_score\n",
    "\n",
    "pd.set_option('display.max_columns', None)\n",
    "pd.set_option('display.max_rows', None)\n",
    "import warnings\n",
    "warnings.filterwarnings(\"ignore\")"
   ]
  },
  {
   "cell_type": "markdown",
   "metadata": {},
   "source": [
    "# Parte 1\n",
    "\n",
    "Se usaran los datos del dataset Titanic.\n",
    "\n",
    "3 modelos de clasificador:\n",
    "\n",
    "- regresión logística\n",
    "- K-NN\n",
    "- XGBoost\n",
    "\n",
    "Con diferentes hiperparámetros con el mismo conjunto de datos.\n",
    "\n",
    "métricas: \n",
    "\n",
    "- la precisión\n",
    "- la puntuación F1"
   ]
  },
  {
   "cell_type": "code",
   "execution_count": null,
   "metadata": {},
   "outputs": [],
   "source": [
    "import os\n",
    "os.environ['MLFLOW_S3_ENDPOINT_URL'] = \"http://Minio:9000\"\n",
    "os.environ['AWS_ACCESS_KEY_ID'] = 'admin'\n",
    "os.environ['AWS_SECRET_ACCESS_KEY'] = 'supersecret'"
   ]
  },
  {
   "cell_type": "code",
   "execution_count": null,
   "metadata": {},
   "outputs": [],
   "source": [
    "df = sns.load_dataset('titanic')\n",
    "df = df[['survived', 'pclass', 'age', 'sibsp', 'parch', 'adult_male']].dropna().reset_index(drop = True)\n",
    "df.head()"
   ]
  },
  {
   "cell_type": "code",
   "execution_count": null,
   "metadata": {},
   "outputs": [],
   "source": [
    "X_train, X_test, y_train, y_test = train_test_split(df.drop('survived', axis = 1), df['survived'], test_size=0.2, random_state=42)"
   ]
  },
  {
   "cell_type": "markdown",
   "metadata": {},
   "source": [
    "Configuremos los experimentos para que MLFlow realice un seguimiento. Primero, necesitamos configurar el URI de seguimiento, que apunta a nuestro servidor local (docker)."
   ]
  },
  {
   "cell_type": "code",
   "execution_count": null,
   "metadata": {},
   "outputs": [],
   "source": [
    "import mlflow\n",
    "mlflow.set_tracking_uri(\"http://tester-mlflow-1:5000\")"
   ]
  },
  {
   "cell_type": "markdown",
   "metadata": {},
   "source": [
    "Configuramos el grupo Experimento"
   ]
  },
  {
   "cell_type": "code",
   "execution_count": null,
   "metadata": {},
   "outputs": [],
   "source": [
    "EXPERIMENT_NAME = \"Titanic-Survived-Classifier-Experiment\"\n",
    "mlflow.set_experiment(EXPERIMENT_NAME)"
   ]
  },
  {
   "cell_type": "markdown",
   "metadata": {},
   "source": [
    "No necesitamos crearlo nuevamente si desea volver a este experimento. En cambio, solo necesitamos el identificador de ID del experimento para obtener el experimento deseado y pasar el ID durante el proceso de seguimiento."
   ]
  },
  {
   "cell_type": "code",
   "execution_count": null,
   "metadata": {},
   "outputs": [],
   "source": [
    "current_experiment=dict(mlflow.get_experiment_by_name(EXPERIMENT_NAME))\n",
    "experiment_id=current_experiment['experiment_id']"
   ]
  },
  {
   "cell_type": "markdown",
   "metadata": {},
   "source": [
    "Para el experimento, lo configuraríamos con la configuración actual."
   ]
  },
  {
   "cell_type": "code",
   "execution_count": null,
   "metadata": {},
   "outputs": [],
   "source": [
    "models_to_experiment = {\n",
    "        \"LR\": LogisticRegression,\n",
    "        \"K-NN\": KNeighborsClassifier,\n",
    "        \"XGB Classifier\": XGBClassifier\n",
    "    }\n",
    "\n",
    "params_to_experiment = {\n",
    "    'LR': {\n",
    "        'solver': 'lbfgs',\n",
    "        'C': 1,\n",
    "        'max_iter': 100\n",
    "    },\n",
    "    'K-NN': {\n",
    "        'n_neighbors': 5,\n",
    "        'weights': 'uniform',\n",
    "        'algorithm': 'auto'\n",
    "    },\n",
    "    'XGB Classifier': {\n",
    "        'max_depth': 3,\n",
    "        'learning_rate': 0.1,\n",
    "        'n_estimators': 100,\n",
    "        'booster': 'gbtree',\n",
    "        'gamma': 0,\n",
    "        'use_label_encoder':False, \n",
    "        'eval_metric':'logloss'\n",
    "    }\n",
    "}"
   ]
  },
  {
   "cell_type": "markdown",
   "metadata": {},
   "source": [
    "Configuré el modelo y los hiperparámetros que usaríamos en el diccionario separado. Experimentaríamos con cada modelo y el hiperparámetro para ver si MLFlow podía rastrearlos.\n",
    "\n",
    "El último paso es ejecutar el experimento y dejar que MLFlow los rastree. Para hacer eso, podemos usar el siguiente código."
   ]
  },
  {
   "cell_type": "code",
   "execution_count": null,
   "metadata": {},
   "outputs": [],
   "source": [
    "from mlflow.models import infer_signature"
   ]
  },
  {
   "cell_type": "code",
   "execution_count": null,
   "metadata": {},
   "outputs": [],
   "source": [
    "for model_name in models_to_experiment.keys():\n",
    "    RUN_NAME = f'Titanic Classifier Experiment {model_name}'\n",
    "    with mlflow.start_run(experiment_id=experiment_id, run_name=RUN_NAME):\n",
    " \n",
    "        params = params_to_experiment[model_name]\n",
    "        model = models_to_experiment[model_name](**params)\n",
    "        \n",
    "        model.fit(X_train, y_train)  # Train model\n",
    "        predictions = model.predict(X_test)  # Predictions\n",
    "    \n",
    "        # Calculate metrics\n",
    "        accuracy = accuracy_score(y_test, predictions)\n",
    "        f1 = f1_score(y_test, predictions, average='weighted')  \n",
    "        \n",
    "        # Log the hyperparameters\n",
    "        mlflow.log_params(params)\n",
    "    \n",
    "        # Log the loss metric\n",
    "        mlflow.log_metric(f\"{model_name}_accuracy\", accuracy)\n",
    "        mlflow.log_metric(f\"{model_name}_f1\", f1)\n",
    "    \n",
    "        # Set a tag that we can use to remind ourselves what this run was for\n",
    "        mlflow.set_tag(\"Training Info\", f\"{model_name} model for Titanic\")\n",
    "    \n",
    "        # Infer the model signature\n",
    "        signature = infer_signature(X_train, model.predict(X_train))\n",
    "\n",
    "        #log the model\n",
    "        if model_name == \"XGBoost\":\n",
    "            model_info = mlflow.xgboost.log_model(\n",
    "            xgb_model=model,\n",
    "            artifact_path=f\"titanic_{model_name}_model\",\n",
    "            signature=signature,\n",
    "            input_example=X_train,\n",
    "            registered_model_name=f\"tracking-titanic-{model_name}\",\n",
    "        )\n",
    "        else:\n",
    "            model_info = mlflow.sklearn.log_model(\n",
    "            sk_model=model,\n",
    "            artifact_path=f\"titanic_{model_name}_model\",\n",
    "            signature=signature,\n",
    "            input_example=X_train,\n",
    "            registered_model_name=f\"tracking-titanic-{model_name}\",\n",
    "        )\n",
    "\n",
    "        #Log the dataset\n",
    "        training_df = pd.concat([X_train, y_train], axis =1).reset_index(drop = True)\n",
    "        training_df[\"ModelOutput\"] = model.predict(X_train)\n",
    "        dataset = mlflow.data.from_pandas(training_df, targets=\"survived\", predictions=\"ModelOutput\", name = f\"data_{model_name}\")\n",
    "        mlflow.log_input(dataset, context=\"training data\")\n",
    "\n",
    "        mlflow.end_run() "
   ]
  },
  {
   "cell_type": "markdown",
   "metadata": {},
   "source": [
    "El registra el modelo para que pueda usarse para predecir"
   ]
  },
  {
   "cell_type": "code",
   "execution_count": null,
   "metadata": {},
   "outputs": [],
   "source": [
    "from mlflow import MlflowClient\n",
    "\n",
    "client = MlflowClient()\n",
    "\n",
    "client.set_registered_model_tag(\"tracking-titanic-LR\", \"task\", \"classification\")"
   ]
  },
  {
   "cell_type": "markdown",
   "metadata": {},
   "source": [
    "todo lo que registre durante el proceso anterior se almacenará en MLFlow.\n",
    "\n",
    "    RUN_NAME = f'Titanic Classifier Experiment {model_name}'\n",
    "    with mlflow.start_run(experiment_id=experiment_id, run_name=RUN_NAME)\n",
    "\n",
    "El parámetro RUN_NAME controlaría el nombre de ejecución que se muestra en la interfaz de usuario. Elija un nombre apropiado que pueda recordar. Luego, hay algunas funciones que utilizamos para realizar un seguimiento:\n",
    "\n",
    "mlflow.log_params: Realice un seguimiento de los hiperparámetros del modelo con el que experimentamos,\n",
    "\n",
    "mlflow.log_metric: Realice un seguimiento de las métricas del modelo,\n",
    "\n",
    "mlflow.set_tag: Entrada para proporcionar una etiqueta para la información de ejecución,\n",
    "\n",
    "infer_signature: Inferir una firma de modelo de MLflow, que es la información de entrada y salida de datos,\n",
    "\n",
    "mlflow.xgboost.log_model y mlflow.sklearn.log_model: Realizar un seguimiento de la información y el artefacto del modelo. Consulte esta lista para conocer la lista de marcos integrados que podemos rastrear con MLFlow.\n",
    "\n",
    "mlflow.log_input: realice un seguimiento del conjunto de datos utilizado para la capacitación."
   ]
  },
  {
   "cell_type": "markdown",
   "metadata": {},
   "source": [
    "# Parte 2\n",
    "\n",
    "En este ejemplo, entrenaríamos un modelo de árbol de decisión y lo registraríamos.\n",
    "\n",
    "La versión 1 del modelo es el primer modelo que registramos con ese nombre. Si registramos otro modelo con el mismo nombre, se podría actualizar a otra versión.\n",
    "\n",
    "Seleccionar la Versión le permite ver los detalles del modelo mucho mejor."
   ]
  },
  {
   "cell_type": "code",
   "execution_count": null,
   "metadata": {},
   "outputs": [],
   "source": [
    "model_name = 'Decision Tree'\n",
    "RUN_NAME = f'Titanic Classifier Experiment {model_name}'\n",
    "params = {'max_depth':3, 'min_samples_split':2}\n",
    "with mlflow.start_run(experiment_id=experiment_id, run_name=RUN_NAME):\n",
    "    \n",
    "    model = decision_tree = DecisionTreeClassifier(**params)\n",
    "    \n",
    "    model.fit(X_train, y_train)  # Train model\n",
    "    predictions = model.predict(X_test)  # Predictions\n",
    "\n",
    "    # Calculate metrics\n",
    "    accuracy = accuracy_score(y_test, predictions)\n",
    "    f1 = f1_score(y_test, predictions, average='weighted')  \n",
    "    \n",
    "    # Log the hyperparameters\n",
    "    mlflow.log_params(params)\n",
    "\n",
    "    # Log the loss metric\n",
    "    mlflow.log_metric(f\"{model_name}_accuracy\", accuracy)\n",
    "    mlflow.log_metric(f\"{model_name}_f1\", f1)\n",
    "\n",
    "    # Set a tag that we can use to remind ourselves what this run was for\n",
    "    mlflow.set_tag(\"Training Info\", f\"{model_name} model for Titanic\")\n",
    "\n",
    "    # Infer the model signature\n",
    "    signature = infer_signature(X_train, model.predict(X_train))\n",
    "    \n",
    "    #log the model\n",
    "\n",
    "    model_info = mlflow.sklearn.log_model(\n",
    "    sk_model=model,\n",
    "    artifact_path=f\"titanic_{model_name}_model\",\n",
    "    signature=signature,\n",
    "    input_example=X_train,\n",
    "    registered_model_name=f\"tracking-titanic-{model_name}\",)\n",
    "\n",
    "    mlflow.end_run() "
   ]
  },
  {
   "cell_type": "markdown",
   "metadata": {},
   "source": [
    "## Etiquetas y alias\n",
    "\n",
    "Las etiquetas son útiles cuando tienes varios modelos registrados y solo deseas obtener un modelo específico. Utilice las etiquetas de una manera que usted o el equipo puedan entender.\n",
    "\n",
    "Aca se registra el modelo para generar prediciones"
   ]
  },
  {
   "cell_type": "code",
   "execution_count": null,
   "metadata": {},
   "outputs": [],
   "source": [
    "from mlflow import MlflowClient\n",
    "\n",
    "client = MlflowClient()\n",
    "\n",
    "client.set_registered_model_tag(\"tracking-titanic-Decision Tree\", \"task\", \"classification\")"
   ]
  },
  {
   "cell_type": "markdown",
   "metadata": {},
   "source": [
    "También puede cambiar las etiquetas de versión del modelo con el siguiente código."
   ]
  },
  {
   "cell_type": "code",
   "execution_count": null,
   "metadata": {},
   "outputs": [],
   "source": [
    "client.set_model_version_tag(\"tracking-titanic-Decision Tree\", \"1\", \"validation_status\", \"approved\")"
   ]
  },
  {
   "cell_type": "markdown",
   "metadata": {},
   "source": [
    "También es posible darle un Alias ​​al modelo. Por ejemplo, damos al modelo Versión 1 como “campeón”."
   ]
  },
  {
   "cell_type": "code",
   "execution_count": null,
   "metadata": {},
   "outputs": [],
   "source": [
    "client.set_registered_model_alias(\"tracking-titanic-Decision Tree\", \"champion\", \"1\")"
   ]
  },
  {
   "cell_type": "markdown",
   "metadata": {},
   "source": [
    "Además, puede eliminar las etiquetas y el alias con el siguiente código."
   ]
  },
  {
   "cell_type": "code",
   "execution_count": null,
   "metadata": {},
   "outputs": [],
   "source": [
    "# Delete registered model tag\n",
    "client.delete_registered_model_tag(\"tracking-titanic-Decision Tree\", \"task\")\n",
    "\n",
    "# Delete model version tag\n",
    "client.delete_model_version_tag(\"tracking-titanic-Decision Tree\", \"1\", \"validation_status\")\n",
    "\n",
    "# delete the alias\n",
    "client.delete_registered_model_alias(\"tracking-titanic-Decision Tree\", \"Champion\")"
   ]
  },
  {
   "cell_type": "markdown",
   "metadata": {},
   "source": [
    "Por último, puede agregar la descripción del modelo para cada versión con el siguiente código."
   ]
  },
  {
   "cell_type": "code",
   "execution_count": null,
   "metadata": {},
   "outputs": [],
   "source": [
    "client.update_model_version(\n",
    "    name=\"tracking-titanic-Decision Tree\",\n",
    "    version=\"1\",\n",
    "    description=\"This model is a sample titanic model with decision tree as baseline\",\n",
    ")"
   ]
  },
  {
   "cell_type": "markdown",
   "metadata": {},
   "source": [
    "O desea actualizar toda la descripción del modelo, puede utilizar el siguiente código."
   ]
  },
  {
   "cell_type": "code",
   "execution_count": null,
   "metadata": {},
   "outputs": [],
   "source": [
    "client.update_registered_model(\n",
    "    name=\"tracking-titanic-Decision Tree\",\n",
    "    description=\"Titanic Decision Tree Model\",\n",
    ")"
   ]
  },
  {
   "cell_type": "markdown",
   "metadata": {},
   "source": [
    "## Obtención de modelos\n",
    "\n",
    "El Registro de Modelos también podría funcionar como recuperación de modelos. Siempre podremos acceder al modelo que tenemos registrado y crear predicciones a partir de ese modelo.\n",
    "\n",
    "Por ejemplo, buscaríamos el modelo que desarrollamos anteriormente."
   ]
  },
  {
   "cell_type": "code",
   "execution_count": null,
   "metadata": {},
   "outputs": [],
   "source": [
    "import mlflow.pyfunc"
   ]
  },
  {
   "cell_type": "code",
   "execution_count": null,
   "metadata": {},
   "outputs": [],
   "source": [
    "model_name = \"tracking-titanic-Decision Tree\"\n",
    "model_version = 1\n",
    "\n",
    "model = mlflow.pyfunc.load_model(model_uri=f\"models:/{model_name}/{model_version}\")"
   ]
  },
  {
   "cell_type": "markdown",
   "metadata": {},
   "source": [
    "Luego, predeciríamos nuestro conjunto de datos con el siguiente código."
   ]
  },
  {
   "cell_type": "code",
   "execution_count": null,
   "metadata": {},
   "outputs": [],
   "source": [
    "model.predict(X_test)"
   ]
  },
  {
   "cell_type": "markdown",
   "metadata": {},
   "source": [
    "¿Qué tan fácil es eso? También es posible recuperar el modelo con el Alias."
   ]
  },
  {
   "cell_type": "code",
   "execution_count": null,
   "metadata": {},
   "outputs": [],
   "source": [
    "alias = 'champion'\n",
    "champion_version = mlflow.pyfunc.load_model(f\"models:/{model_name}@{alias}\")\n",
    "\n",
    "champion_version.predict(X_test)"
   ]
  },
  {
   "cell_type": "code",
   "execution_count": null,
   "metadata": {},
   "outputs": [],
   "source": [
    "print('ok_')"
   ]
  }
 ],
 "metadata": {
  "language_info": {
   "name": "python"
  }
 },
 "nbformat": 4,
 "nbformat_minor": 2
}
