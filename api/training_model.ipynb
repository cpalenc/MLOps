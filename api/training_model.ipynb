{
 "cells": [
  {
   "cell_type": "code",
   "execution_count": 20,
   "metadata": {},
   "outputs": [],
   "source": [
    "from pandas import DataFrame\n",
    "from sklearn.model_selection import train_test_split\n",
    "from sklearn.ensemble import RandomForestClassifier\n",
    "from sklearn.metrics import accuracy_score\n",
    "from requests import get\n",
    "from json import dump, load\n",
    "from sklearn.preprocessing import OneHotEncoder\n",
    "from sklearn.compose import ColumnTransformer\n"
   ]
  },
  {
   "cell_type": "markdown",
   "metadata": {},
   "source": [
    "## Fetch Data From API"
   ]
  },
  {
   "cell_type": "code",
   "execution_count": 22,
   "metadata": {},
   "outputs": [],
   "source": [
    "def fetch_data_and_save_to_json():    \n",
    "    api_url = \"http://10.43.101.149/data?group_number=1\"\n",
    "    response = get(api_url)\n",
    "    if response.status_code == 200:\n",
    "        data = response.json()\n",
    "        with open(\"api/data/covertype.json\", \"w\") as outfile:\n",
    "            dump(data, outfile)\n",
    "        print(\"Data fetched from API and saved locally.\")\n",
    "    else:\n",
    "        print(\"Error fetching data from API.\")"
   ]
  },
  {
   "cell_type": "code",
   "execution_count": 5,
   "metadata": {},
   "outputs": [
    {
     "name": "stdout",
     "output_type": "stream",
     "text": [
      "Data fetched from API and saved locally.\n"
     ]
    }
   ],
   "source": [
    "fetch_data_and_save_to_json()"
   ]
  },
  {
   "cell_type": "markdown",
   "metadata": {},
   "source": [
    "## Train Model"
   ]
  },
  {
   "cell_type": "code",
   "execution_count": 23,
   "metadata": {},
   "outputs": [
    {
     "name": "stdout",
     "output_type": "stream",
     "text": [
      "Precisión del modelo: 0.8958691910499139\n"
     ]
    }
   ],
   "source": [
    "# Load data from JSON into DataFrame\n",
    "with open('api/data/covertype.json') as f:\n",
    "    data = load(f)\n",
    "df = DataFrame(data['data'])\n",
    "# Assign column names because json just contains data without headers (column names)\n",
    "column_names = ['Elevation', 'Aspect', 'Slope', 'Horizontal_Distance_To_Hydrology',\n",
    "                'Vertical_Distance_To_Hydrology', 'Horizontal_Distance_To_Roadways',\n",
    "                'Hillshade_9am', 'Hillshade_Noon', 'Hillshade_3pm',\n",
    "                'Horizontal_Distance_To_Fire_Points', 'Wilderness_Area', 'Soil_Type',\n",
    "                'Cover_Type']\n",
    "df.columns = column_names\n",
    "# Split DataFrame  features (X) and tags (y)\n",
    "X = df.drop('Cover_Type', axis=1) \n",
    "y = df['Cover_Type'] \n",
    "\n",
    "# Define categorical variables to apply One-Hot Encoding\n",
    "categorical_cols = ['Wilderness_Area', 'Soil_Type']\n",
    "\n",
    "# Create transformer to apply One-Hot Encoding to categorical columns\n",
    "ct = ColumnTransformer(transformers=[('encoder', OneHotEncoder(), categorical_cols)], remainder='passthrough')\n",
    "\n",
    "# Aplicar la transformación a las características X\n",
    "X_encoded = ct.fit_transform(X)\n",
    "\n",
    "# Dividir los datos transformados en conjuntos de entrenamiento y prueba\n",
    "X_train, X_test, y_train, y_test = train_test_split(X_encoded, y, test_size=0.2, random_state=42)\n",
    "\n",
    "# Entrenar un modelo RandomForestClassifier\n",
    "rf_classifier = RandomForestClassifier(n_estimators=100, random_state=42)\n",
    "rf_classifier.fit(X_train, y_train)\n",
    "\n",
    "# Realizar predicciones en el conjunto de prueba\n",
    "y_pred = rf_classifier.predict(X_test)\n",
    "\n",
    "# Calcular la precisión del modelo\n",
    "accuracy = accuracy_score(y_test, y_pred)\n",
    "print(f'Precisión del modelo: {accuracy}')\n",
    "\n"
   ]
  },
  {
   "cell_type": "code",
   "execution_count": null,
   "metadata": {},
   "outputs": [],
   "source": []
  }
 ],
 "metadata": {
  "kernelspec": {
   "display_name": "venv",
   "language": "python",
   "name": "python3"
  },
  "language_info": {
   "codemirror_mode": {
    "name": "ipython",
    "version": 3
   },
   "file_extension": ".py",
   "mimetype": "text/x-python",
   "name": "python",
   "nbconvert_exporter": "python",
   "pygments_lexer": "ipython3",
   "version": "3.11.7"
  }
 },
 "nbformat": 4,
 "nbformat_minor": 2
}
